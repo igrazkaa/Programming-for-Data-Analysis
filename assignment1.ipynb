{
 "cells": [
  {
   "cell_type": "markdown",
   "metadata": {},
   "source": [
    "### Task 1 \n",
    "Create `dog` and `cat` classes that inherit from the `animal` class. The `animal` class has the following attributes:\n",
    "- isAlive = True;\n",
    "- gender = Male/Female (default Female);\n",
    "- genus = species name (**Canis** for dog, **Felis** for cat);\n",
    "\n",
    "The `animal` class also has the `breed` method with the `partner` parameter. This method returns an instance of the `animal` class, of the same type as the instance in which we call the `breed` method, provided that the instance for which we call the method:\n",
    "- its gender is Female;\n",
    "- partner gender is Male;\n",
    "- instance and partner belong to the same species;\n",
    "\n",
    "The `dog` class has a `woof` method that returns a `'woof woof'` string. The `cat` class has a `purr` method that returns a string `'purr'`.\n",
    "\n",
    "Create an instance of the `dog` and `cat` classes using the `breed` method. Add an exception catch instruction to the `breed` method, which will display string `'Attribute not found'`, if the partner specified in the parameter does not have the necessary attributes."
   ]
  },
  {
   "cell_type": "code",
   "execution_count": 1,
   "metadata": {},
   "outputs": [],
   "source": [
    "from enum import IntEnum #Base class for creating enumerated constants\n",
    "\n",
    "class Gender(IntEnum):\n",
    "    MALE = 0\n",
    "    FEMALE = 1\n",
    "        \n",
    "        \n",
    "class Animal:\n",
    "    \n",
    "    def __init__(self, gender = Gender.FEMALE, genus = ''):\n",
    "        self.is_alive = True\n",
    "        self.gender = gender\n",
    "        self.genus = genus\n",
    "    \n",
    "    def breed(self, partner): \n",
    "        try:\n",
    "            if self.can_breed(partner):\n",
    "                return self.__class__(self.gender, self.genus)\n",
    "            else:\n",
    "                raise ValueError('Attribute not found')\n",
    "        except ValueError as ve:\n",
    "            print('Exception raised:', ve, f': {self.genus} and {partner.genus} cannot breed together!')\n",
    "    \n",
    "    def can_breed(self, partner): \n",
    "        return self.gender == Gender.FEMALE and partner.gender == Gender.MALE and self.genus == partner.genus\n",
    "    \n",
    "\n",
    "class Dog(Animal):\n",
    "    \n",
    "    def __init__(self, gender = Gender.FEMALE, genus = 'Canis'): \n",
    "        super().__init__(gender, genus)\n",
    "    \n",
    "    def woof(self): \n",
    "        return 'woof woof'\n",
    "    \n",
    "\n",
    "class Cat(Animal):\n",
    "    \n",
    "    def __init__(self, gender = Gender.FEMALE, genus = 'Felis'):\n",
    "        super().__init__(gender, genus)\n",
    "        \n",
    "    def purr(self): \n",
    "        return 'purr'"
   ]
  },
  {
   "cell_type": "code",
   "execution_count": 2,
   "metadata": {},
   "outputs": [
    {
     "name": "stdout",
     "output_type": "stream",
     "text": [
      "<class '__main__.Dog'>\n",
      "<class '__main__.Cat'>\n",
      "Exception raised: Attribute not found : Felis and Canis cannot breed together!\n"
     ]
    }
   ],
   "source": [
    "dogF = Dog(1)\n",
    "dogM = Dog(0)\n",
    "catF = Cat(1)\n",
    "catM = Cat(0)\n",
    "\n",
    "new_dog = dogF.breed(dogM)\n",
    "print(type(new_dog))\n",
    "\n",
    "new_cat = catF.breed(catM)\n",
    "print(type(new_cat))\n",
    "\n",
    "no_animal = catM.breed(dogF)"
   ]
  },
  {
   "cell_type": "markdown",
   "metadata": {},
   "source": [
    "### Task 2\n",
    "Create `worker` class. The class has a `salary` attribute that returns salary. Create instances of the class with the given values. Write instructions that: \n",
    "- count the average earnings in the company;\n",
    "- compare the average earnings among people younger than 30 years old and older than 30 years old;"
   ]
  },
  {
   "cell_type": "code",
   "execution_count": 3,
   "metadata": {},
   "outputs": [],
   "source": [
    "from datetime import date\n",
    "\n",
    "class Worker:\n",
    "    \n",
    "    def __init__(self, name, birth_year, salary):\n",
    "        self.name = name\n",
    "        self.birth_year = birth_year\n",
    "        self.age = date.today().year - self.birth_year\n",
    "        self.salary = salary\n",
    "        \n",
    "class Company:\n",
    "    \n",
    "    def __init__(self):\n",
    "        self.workers = list()\n",
    "        \n",
    "    def add_worker(self, worker):\n",
    "        self.workers.append(worker)\n",
    "    \n",
    "    def delete_worker(self, worker):\n",
    "        self.workers.remove(worker)\n",
    "    \n",
    "    \n",
    "    def avg_salary(self):\n",
    "        total_salary = 0 \n",
    "\n",
    "        for worker in self.workers:\n",
    "            total_salary += worker.salary\n",
    "\n",
    "        return total_salary / len(self.workers) \n",
    "    \n",
    "    \n",
    "    def avg_salary_under30(self):\n",
    "        workers_under30 = 0\n",
    "        total_salary = 0\n",
    "        \n",
    "        for worker in self.workers:\n",
    "            if worker.age < 30:\n",
    "                workers_under30 += 1\n",
    "                total_salary += worker.salary\n",
    "        \n",
    "        if workers_under30 == 0:\n",
    "            return 0\n",
    "        else:\n",
    "            return total_salary / workers_under30\n",
    "        \n",
    "    \n",
    "    def avg_salary_over30(self):\n",
    "        workers_over30 = 0\n",
    "        total_salary = 0\n",
    "        \n",
    "        for worker in self.workers:\n",
    "            if worker.age > 30:\n",
    "                workers_over30 += 1\n",
    "                total_salary += worker.salary\n",
    "        \n",
    "        if workers_over30 == 0:\n",
    "            return 0\n",
    "        else:\n",
    "            return total_salary / workers_over30"
   ]
  },
  {
   "cell_type": "code",
   "execution_count": 4,
   "metadata": {},
   "outputs": [
    {
     "name": "stdout",
     "output_type": "stream",
     "text": [
      "Average earnings in the company:  3930.0\n",
      "Average earnings among people younger than 30 years old:  3675.0\n",
      "Average earnings among people older than 30 years old:  4280.0\n"
     ]
    }
   ],
   "source": [
    "w1 = Worker(name = 'Ann', birth_year = 1980, salary = 4500)\n",
    "w2 = Worker(name = 'Mark', birth_year = 1981, salary = 5700)\n",
    "w3 = Worker(name = 'Grace', birth_year = 1992, salary = 3200)\n",
    "w4 = Worker(name = 'Darius', birth_year = 1995, salary = 4400)\n",
    "w5 = Worker(name = 'Sam', birth_year = 1970, salary = 3300)\n",
    "w6 = Worker(name = 'Natan', birth_year = 1971, salary = 3700)\n",
    "w7 = Worker(name = 'Ewa', birth_year = 1972, salary = 4200)\n",
    "w8 = Worker(name = 'Julia', birth_year = 1999, salary = 3900)\n",
    "w9 = Worker(name = 'Antoni', birth_year = 2001, salary = 3100)\n",
    "w10 = Worker(name = 'Patrick', birth_year = 2002, salary = 3300)\n",
    "workers = [w1, w2, w3, w4, w5, w6, w7, w8, w9, w10]\n",
    "\n",
    "company = Company()\n",
    "\n",
    "for worker in workers:\n",
    "    company.add_worker(worker)\n",
    "\n",
    "print('Average earnings in the company: ', company.avg_salary())\n",
    "print('Average earnings among people younger than 30 years old: ', company.avg_salary_under30())\n",
    "print('Average earnings among people older than 30 years old: ', company.avg_salary_over30())"
   ]
  }
 ],
 "metadata": {
  "kernelspec": {
   "display_name": "Python 3",
   "language": "python",
   "name": "python3"
  },
  "language_info": {
   "codemirror_mode": {
    "name": "ipython",
    "version": 3
   },
   "file_extension": ".py",
   "mimetype": "text/x-python",
   "name": "python",
   "nbconvert_exporter": "python",
   "pygments_lexer": "ipython3",
   "version": "3.8.5"
  }
 },
 "nbformat": 4,
 "nbformat_minor": 4
}
