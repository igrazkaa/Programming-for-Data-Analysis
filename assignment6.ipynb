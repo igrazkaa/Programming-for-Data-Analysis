{
 "cells": [
  {
   "cell_type": "markdown",
   "metadata": {},
   "source": [
    "Data: `SMSSpamCollection.txt`\n",
    "\n",
    "### Task 1\n",
    "\n",
    "    a) Classify SMS according to whether they are spam or not.\n",
    "    b) Use TF-IDF scales as input data.\n",
    "    c) Add SMS sentiment information to the classification model.\n",
    "    d) Add information about the proportion of verbs (\"VERB\"), nouns (\"NOUN\") and adjectives (\"ADJ\").\n",
    "    e) Use 3 known classification algorithms."
   ]
  },
  {
   "cell_type": "code",
   "execution_count": 1,
   "metadata": {},
   "outputs": [],
   "source": [
    "import numpy as np\n",
    "import pandas as pd\n",
    "\n",
    "from sklearn.feature_extraction.text import TfidfVectorizer\n",
    "import spacy\n",
    "from sklearn.model_selection import train_test_split\n",
    "from sklearn.linear_model import LogisticRegression\n",
    "from sklearn.metrics import *\n",
    "from sklearn.neighbors import KNeighborsClassifier\n",
    "from sklearn.tree import DecisionTreeClassifier\n",
    "from sklearn.naive_bayes import MultinomialNB\n",
    "\n",
    "import matplotlib.pyplot as plt\n",
    "import seaborn as sns"
   ]
  },
  {
   "cell_type": "code",
   "execution_count": 2,
   "metadata": {},
   "outputs": [
    {
     "data": {
      "text/html": [
       "<div>\n",
       "<style scoped>\n",
       "    .dataframe tbody tr th:only-of-type {\n",
       "        vertical-align: middle;\n",
       "    }\n",
       "\n",
       "    .dataframe tbody tr th {\n",
       "        vertical-align: top;\n",
       "    }\n",
       "\n",
       "    .dataframe thead th {\n",
       "        text-align: right;\n",
       "    }\n",
       "</style>\n",
       "<table border=\"1\" class=\"dataframe\">\n",
       "  <thead>\n",
       "    <tr style=\"text-align: right;\">\n",
       "      <th></th>\n",
       "      <th>Sentiment</th>\n",
       "      <th>SentimentText</th>\n",
       "    </tr>\n",
       "  </thead>\n",
       "  <tbody>\n",
       "    <tr>\n",
       "      <th>0</th>\n",
       "      <td>0</td>\n",
       "      <td>Go until jurong point, crazy.. Available only ...</td>\n",
       "    </tr>\n",
       "    <tr>\n",
       "      <th>1</th>\n",
       "      <td>0</td>\n",
       "      <td>Ok lar... Joking wif u oni...</td>\n",
       "    </tr>\n",
       "    <tr>\n",
       "      <th>2</th>\n",
       "      <td>1</td>\n",
       "      <td>Free entry in 2 a wkly comp to win FA Cup fina...</td>\n",
       "    </tr>\n",
       "    <tr>\n",
       "      <th>3</th>\n",
       "      <td>0</td>\n",
       "      <td>U dun say so early hor... U c already then say...</td>\n",
       "    </tr>\n",
       "    <tr>\n",
       "      <th>4</th>\n",
       "      <td>0</td>\n",
       "      <td>Nah I don't think he goes to usf, he lives aro...</td>\n",
       "    </tr>\n",
       "  </tbody>\n",
       "</table>\n",
       "</div>"
      ],
      "text/plain": [
       "   Sentiment                                      SentimentText\n",
       "0          0  Go until jurong point, crazy.. Available only ...\n",
       "1          0                      Ok lar... Joking wif u oni...\n",
       "2          1  Free entry in 2 a wkly comp to win FA Cup fina...\n",
       "3          0  U dun say so early hor... U c already then say...\n",
       "4          0  Nah I don't think he goes to usf, he lives aro..."
      ]
     },
     "execution_count": 2,
     "metadata": {},
     "output_type": "execute_result"
    }
   ],
   "source": [
    "df_start = pd.read_csv ('datasets/SMSSpamCollection.txt', sep='\\t', names=['Sentiment','SentimentText'])\n",
    "df_start['Sentiment'] = df_start['Sentiment'].map({'ham': 0, 'spam': 1})\n",
    "df_start.head()"
   ]
  },
  {
   "cell_type": "code",
   "execution_count": 3,
   "metadata": {},
   "outputs": [
    {
     "name": "stdout",
     "output_type": "stream",
     "text": [
      "<class 'pandas.core.frame.DataFrame'>\n",
      "RangeIndex: 5572 entries, 0 to 5571\n",
      "Data columns (total 2 columns):\n",
      " #   Column         Non-Null Count  Dtype \n",
      "---  ------         --------------  ----- \n",
      " 0   Sentiment      5572 non-null   int64 \n",
      " 1   SentimentText  5572 non-null   object\n",
      "dtypes: int64(1), object(1)\n",
      "memory usage: 87.2+ KB\n"
     ]
    }
   ],
   "source": [
    "df_start.info()"
   ]
  },
  {
   "cell_type": "markdown",
   "metadata": {},
   "source": [
    "Universal **POS tags** - Alphabetical listing\n",
    "- `ADJ`: adjective - przymiotnik\n",
    "- `ADP`: adposition = preposition - przyimek\n",
    "- `ADV`: adverb - przysłówek\n",
    "- `AUX`: auxiliary - pomocniczy\n",
    "- `CCONJ`: coordinating conjunction - spójnik współrzędny\n",
    "- `DET`: determiner - określnik\n",
    "- `INTJ`: interjection - wykrzyknik (część mowy)\n",
    "- `NOUN`: noun - rzeczownik\n",
    "- `NUM`: numeral - cyfra\n",
    "- `PART`: particle - partykuła\n",
    "- `PRON`: pronoun - zaimek\n",
    "- `PROPN`: proper noun - nazwa własna\n",
    "- `PUNCT`: punctuation - interpunkcja\n",
    "- `SCONJ`: subordinating conjunction - spójnik podrzędny\n",
    "- `SYM`: symbol\n",
    "- `VERB`: verb\n",
    "- `X`: other\n",
    "\n",
    "https://universaldependencies.org/u/pos/"
   ]
  },
  {
   "cell_type": "markdown",
   "metadata": {},
   "source": [
    "We calculate the number of verbs, nouns, adjectives for each line divided by the sum of all words."
   ]
  },
  {
   "cell_type": "code",
   "execution_count": 4,
   "metadata": {},
   "outputs": [
    {
     "name": "stderr",
     "output_type": "stream",
     "text": [
      "C:\\ProgramData\\Anaconda3\\lib\\site-packages\\spacy\\util.py:837: UserWarning: [W095] Model 'en_core_web_sm' (3.2.0) was trained with spaCy v3.2 and may not be 100% compatible with the current version (3.3.1). If you see errors or degraded performance, download a newer compatible model or retrain your custom model with the current spaCy version. For more details and available updates, run: python -m spacy validate\n",
      "  warnings.warn(warn_msg)\n"
     ]
    }
   ],
   "source": [
    "nlp = spacy.load('en_core_web_sm')\n",
    "\n",
    "verbs = []\n",
    "nouns = []\n",
    "adjs = []\n",
    "\n",
    "for row in df_start['SentimentText']:\n",
    "    modeled_text = nlp(row)\n",
    "    pos = [token.pos_ for token in modeled_text] \n",
    "    \n",
    "    #we count words (other than punctuation marks and symbols)\n",
    "    class_words = ['ADJ','ADP','ADV','AUX','CCONJ','DET','INTJ','NOUN','NUM','PART','PRON','PROPN','SCONJ','VERB']\n",
    "    class_words_count = 0\n",
    "    for i in class_words:\n",
    "        class_words_count += pos.count(i)\n",
    "    \n",
    "    #we set the right proportions\n",
    "    if class_words_count: #0/0 indeterminate form\n",
    "        verbs.append(pos.count(\"VERB\")/class_words_count)\n",
    "        nouns.append(pos.count(\"NOUN\")/class_words_count)\n",
    "        adjs.append(pos.count(\"ADJ\")/class_words_count)\n",
    "    else:\n",
    "        verbs.append(0)\n",
    "        nouns.append(0)\n",
    "        adjs.append(0)\n",
    "\n",
    "df = df_start.assign(VERB=verbs, NOUN=nouns, ADJ=adjs)"
   ]
  },
  {
   "cell_type": "markdown",
   "metadata": {},
   "source": [
    "Cleaning 'SentimentText' column"
   ]
  },
  {
   "cell_type": "code",
   "execution_count": 5,
   "metadata": {},
   "outputs": [],
   "source": [
    "def clean_text(x):\n",
    "    x = x.replace(',','')\n",
    "    x = x.replace('.','')\n",
    "    x = x.replace(':','')\n",
    "    x = x.replace(';','')\n",
    "    x = x.replace('...','')\n",
    "    x = x.replace('\"','')\n",
    "    x = x.replace('<br>','')\n",
    "    x = x.replace('<br />','')\n",
    "    x = x.replace('<br/>','')\n",
    "    x = x.replace('?','')\n",
    "    x = x.replace(')','')\n",
    "    x = x.replace('..','')\n",
    "    x = x.replace('(','')\n",
    "    x = x.lower()\n",
    "    x = ' '.join([word for word in x.split() if word.isalpha()])\n",
    "    return x\n",
    "\n",
    "df['SentimentText'] = df['SentimentText'].apply(clean_text)"
   ]
  },
  {
   "cell_type": "code",
   "execution_count": 6,
   "metadata": {},
   "outputs": [
    {
     "data": {
      "text/html": [
       "<div>\n",
       "<style scoped>\n",
       "    .dataframe tbody tr th:only-of-type {\n",
       "        vertical-align: middle;\n",
       "    }\n",
       "\n",
       "    .dataframe tbody tr th {\n",
       "        vertical-align: top;\n",
       "    }\n",
       "\n",
       "    .dataframe thead th {\n",
       "        text-align: right;\n",
       "    }\n",
       "</style>\n",
       "<table border=\"1\" class=\"dataframe\">\n",
       "  <thead>\n",
       "    <tr style=\"text-align: right;\">\n",
       "      <th></th>\n",
       "      <th>Sentiment</th>\n",
       "      <th>SentimentText</th>\n",
       "      <th>VERB</th>\n",
       "      <th>NOUN</th>\n",
       "      <th>ADJ</th>\n",
       "    </tr>\n",
       "  </thead>\n",
       "  <tbody>\n",
       "    <tr>\n",
       "      <th>0</th>\n",
       "      <td>0</td>\n",
       "      <td>go until jurong point crazy available only in ...</td>\n",
       "      <td>0.100000</td>\n",
       "      <td>0.200000</td>\n",
       "      <td>0.200000</td>\n",
       "    </tr>\n",
       "    <tr>\n",
       "      <th>1</th>\n",
       "      <td>0</td>\n",
       "      <td>ok lar joking wif u oni</td>\n",
       "      <td>0.166667</td>\n",
       "      <td>0.333333</td>\n",
       "      <td>0.166667</td>\n",
       "    </tr>\n",
       "    <tr>\n",
       "      <th>2</th>\n",
       "      <td>1</td>\n",
       "      <td>free entry in a wkly comp to win fa cup final ...</td>\n",
       "      <td>0.166667</td>\n",
       "      <td>0.200000</td>\n",
       "      <td>0.100000</td>\n",
       "    </tr>\n",
       "    <tr>\n",
       "      <th>3</th>\n",
       "      <td>0</td>\n",
       "      <td>u dun say so early hor u c already then say</td>\n",
       "      <td>0.272727</td>\n",
       "      <td>0.090909</td>\n",
       "      <td>0.090909</td>\n",
       "    </tr>\n",
       "    <tr>\n",
       "      <th>4</th>\n",
       "      <td>0</td>\n",
       "      <td>nah i think he goes to usf he lives around her...</td>\n",
       "      <td>0.285714</td>\n",
       "      <td>0.000000</td>\n",
       "      <td>0.000000</td>\n",
       "    </tr>\n",
       "  </tbody>\n",
       "</table>\n",
       "</div>"
      ],
      "text/plain": [
       "   Sentiment                                      SentimentText      VERB  \\\n",
       "0          0  go until jurong point crazy available only in ...  0.100000   \n",
       "1          0                            ok lar joking wif u oni  0.166667   \n",
       "2          1  free entry in a wkly comp to win fa cup final ...  0.166667   \n",
       "3          0        u dun say so early hor u c already then say  0.272727   \n",
       "4          0  nah i think he goes to usf he lives around her...  0.285714   \n",
       "\n",
       "       NOUN       ADJ  \n",
       "0  0.200000  0.200000  \n",
       "1  0.333333  0.166667  \n",
       "2  0.200000  0.100000  \n",
       "3  0.090909  0.090909  \n",
       "4  0.000000  0.000000  "
      ]
     },
     "execution_count": 6,
     "metadata": {},
     "output_type": "execute_result"
    }
   ],
   "source": [
    "df.head()"
   ]
  },
  {
   "cell_type": "markdown",
   "metadata": {},
   "source": [
    "**TF-IDF**\n",
    "\n",
    "To reduce the size of the matrix, we only include words that appeared in at least 10 documents (min_df = 10)."
   ]
  },
  {
   "cell_type": "code",
   "execution_count": 7,
   "metadata": {
    "scrolled": true
   },
   "outputs": [
    {
     "data": {
      "text/html": [
       "<div>\n",
       "<style scoped>\n",
       "    .dataframe tbody tr th:only-of-type {\n",
       "        vertical-align: middle;\n",
       "    }\n",
       "\n",
       "    .dataframe tbody tr th {\n",
       "        vertical-align: top;\n",
       "    }\n",
       "\n",
       "    .dataframe thead th {\n",
       "        text-align: right;\n",
       "    }\n",
       "</style>\n",
       "<table border=\"1\" class=\"dataframe\">\n",
       "  <thead>\n",
       "    <tr style=\"text-align: right;\">\n",
       "      <th></th>\n",
       "      <th>abiola</th>\n",
       "      <th>able</th>\n",
       "      <th>about</th>\n",
       "      <th>abt</th>\n",
       "      <th>account</th>\n",
       "      <th>across</th>\n",
       "      <th>actually</th>\n",
       "      <th>address</th>\n",
       "      <th>admirer</th>\n",
       "      <th>aft</th>\n",
       "      <th>...</th>\n",
       "      <th>you</th>\n",
       "      <th>your</th>\n",
       "      <th>yours</th>\n",
       "      <th>yourself</th>\n",
       "      <th>yr</th>\n",
       "      <th>yup</th>\n",
       "      <th>VERBS</th>\n",
       "      <th>NOUNS</th>\n",
       "      <th>ADJS</th>\n",
       "      <th>label_sentiment</th>\n",
       "    </tr>\n",
       "  </thead>\n",
       "  <tbody>\n",
       "    <tr>\n",
       "      <th>0</th>\n",
       "      <td>0.0</td>\n",
       "      <td>0.0</td>\n",
       "      <td>0.0</td>\n",
       "      <td>0.0</td>\n",
       "      <td>0.0</td>\n",
       "      <td>0.0</td>\n",
       "      <td>0.0</td>\n",
       "      <td>0.0</td>\n",
       "      <td>0.0</td>\n",
       "      <td>0.0</td>\n",
       "      <td>...</td>\n",
       "      <td>0.0</td>\n",
       "      <td>0.0</td>\n",
       "      <td>0.0</td>\n",
       "      <td>0.0</td>\n",
       "      <td>0.0</td>\n",
       "      <td>0.0</td>\n",
       "      <td>0.100000</td>\n",
       "      <td>0.200000</td>\n",
       "      <td>0.200000</td>\n",
       "      <td>0</td>\n",
       "    </tr>\n",
       "    <tr>\n",
       "      <th>1</th>\n",
       "      <td>0.0</td>\n",
       "      <td>0.0</td>\n",
       "      <td>0.0</td>\n",
       "      <td>0.0</td>\n",
       "      <td>0.0</td>\n",
       "      <td>0.0</td>\n",
       "      <td>0.0</td>\n",
       "      <td>0.0</td>\n",
       "      <td>0.0</td>\n",
       "      <td>0.0</td>\n",
       "      <td>...</td>\n",
       "      <td>0.0</td>\n",
       "      <td>0.0</td>\n",
       "      <td>0.0</td>\n",
       "      <td>0.0</td>\n",
       "      <td>0.0</td>\n",
       "      <td>0.0</td>\n",
       "      <td>0.166667</td>\n",
       "      <td>0.333333</td>\n",
       "      <td>0.166667</td>\n",
       "      <td>0</td>\n",
       "    </tr>\n",
       "    <tr>\n",
       "      <th>2</th>\n",
       "      <td>0.0</td>\n",
       "      <td>0.0</td>\n",
       "      <td>0.0</td>\n",
       "      <td>0.0</td>\n",
       "      <td>0.0</td>\n",
       "      <td>0.0</td>\n",
       "      <td>0.0</td>\n",
       "      <td>0.0</td>\n",
       "      <td>0.0</td>\n",
       "      <td>0.0</td>\n",
       "      <td>...</td>\n",
       "      <td>0.0</td>\n",
       "      <td>0.0</td>\n",
       "      <td>0.0</td>\n",
       "      <td>0.0</td>\n",
       "      <td>0.0</td>\n",
       "      <td>0.0</td>\n",
       "      <td>0.166667</td>\n",
       "      <td>0.200000</td>\n",
       "      <td>0.100000</td>\n",
       "      <td>1</td>\n",
       "    </tr>\n",
       "    <tr>\n",
       "      <th>3</th>\n",
       "      <td>0.0</td>\n",
       "      <td>0.0</td>\n",
       "      <td>0.0</td>\n",
       "      <td>0.0</td>\n",
       "      <td>0.0</td>\n",
       "      <td>0.0</td>\n",
       "      <td>0.0</td>\n",
       "      <td>0.0</td>\n",
       "      <td>0.0</td>\n",
       "      <td>0.0</td>\n",
       "      <td>...</td>\n",
       "      <td>0.0</td>\n",
       "      <td>0.0</td>\n",
       "      <td>0.0</td>\n",
       "      <td>0.0</td>\n",
       "      <td>0.0</td>\n",
       "      <td>0.0</td>\n",
       "      <td>0.272727</td>\n",
       "      <td>0.090909</td>\n",
       "      <td>0.090909</td>\n",
       "      <td>0</td>\n",
       "    </tr>\n",
       "    <tr>\n",
       "      <th>4</th>\n",
       "      <td>0.0</td>\n",
       "      <td>0.0</td>\n",
       "      <td>0.0</td>\n",
       "      <td>0.0</td>\n",
       "      <td>0.0</td>\n",
       "      <td>0.0</td>\n",
       "      <td>0.0</td>\n",
       "      <td>0.0</td>\n",
       "      <td>0.0</td>\n",
       "      <td>0.0</td>\n",
       "      <td>...</td>\n",
       "      <td>0.0</td>\n",
       "      <td>0.0</td>\n",
       "      <td>0.0</td>\n",
       "      <td>0.0</td>\n",
       "      <td>0.0</td>\n",
       "      <td>0.0</td>\n",
       "      <td>0.285714</td>\n",
       "      <td>0.000000</td>\n",
       "      <td>0.000000</td>\n",
       "      <td>0</td>\n",
       "    </tr>\n",
       "  </tbody>\n",
       "</table>\n",
       "<p>5 rows × 904 columns</p>\n",
       "</div>"
      ],
      "text/plain": [
       "   abiola  able  about  abt  account  across  actually  address  admirer  aft  \\\n",
       "0     0.0   0.0    0.0  0.0      0.0     0.0       0.0      0.0      0.0  0.0   \n",
       "1     0.0   0.0    0.0  0.0      0.0     0.0       0.0      0.0      0.0  0.0   \n",
       "2     0.0   0.0    0.0  0.0      0.0     0.0       0.0      0.0      0.0  0.0   \n",
       "3     0.0   0.0    0.0  0.0      0.0     0.0       0.0      0.0      0.0  0.0   \n",
       "4     0.0   0.0    0.0  0.0      0.0     0.0       0.0      0.0      0.0  0.0   \n",
       "\n",
       "   ...  you  your  yours  yourself   yr  yup     VERBS     NOUNS      ADJS  \\\n",
       "0  ...  0.0   0.0    0.0       0.0  0.0  0.0  0.100000  0.200000  0.200000   \n",
       "1  ...  0.0   0.0    0.0       0.0  0.0  0.0  0.166667  0.333333  0.166667   \n",
       "2  ...  0.0   0.0    0.0       0.0  0.0  0.0  0.166667  0.200000  0.100000   \n",
       "3  ...  0.0   0.0    0.0       0.0  0.0  0.0  0.272727  0.090909  0.090909   \n",
       "4  ...  0.0   0.0    0.0       0.0  0.0  0.0  0.285714  0.000000  0.000000   \n",
       "\n",
       "   label_sentiment  \n",
       "0                0  \n",
       "1                0  \n",
       "2                1  \n",
       "3                0  \n",
       "4                0  \n",
       "\n",
       "[5 rows x 904 columns]"
      ]
     },
     "execution_count": 7,
     "metadata": {},
     "output_type": "execute_result"
    }
   ],
   "source": [
    "tfidf = TfidfVectorizer(min_df=10) \n",
    "matrix = tfidf.fit_transform(df['SentimentText'])\n",
    "tfidf_matrix = pd.DataFrame(matrix.todense(), columns=tfidf.get_feature_names())\n",
    "\n",
    "df_pos = pd.DataFrame({'VERBS': verbs, 'NOUNS' : nouns, 'ADJS' : adjs})\n",
    "tfidf_matrix = pd.concat([tfidf_matrix, df_pos], axis=1)\n",
    "tfidf_matrix['label_sentiment'] = df['Sentiment']\n",
    "tfidf_matrix.head()"
   ]
  },
  {
   "cell_type": "markdown",
   "metadata": {},
   "source": [
    "**Data validation**"
   ]
  },
  {
   "cell_type": "code",
   "execution_count": 8,
   "metadata": {},
   "outputs": [],
   "source": [
    "y = tfidf_matrix['label_sentiment']\n",
    "X = tfidf_matrix.drop(columns=['label_sentiment'])\n",
    "X_train, X_test, y_train, y_test = train_test_split(X, y, test_size=0.25)"
   ]
  },
  {
   "cell_type": "markdown",
   "metadata": {},
   "source": [
    "**Logistic regression**"
   ]
  },
  {
   "cell_type": "code",
   "execution_count": 9,
   "metadata": {},
   "outputs": [
    {
     "name": "stdout",
     "output_type": "stream",
     "text": [
      "Positive sentiment precision: 0.9936708860759493\n",
      "Positive sentiment recall: 0.8177083333333334\n",
      "Negative sentiment precision: 0.97165991902834\n",
      "Negative sentiment recall: 0.9991673605328892\n",
      "Classification accuracy: 0.9741564967695621\n"
     ]
    }
   ],
   "source": [
    "lr = LogisticRegression()\n",
    "lr.fit(X,y)\n",
    "y_pred = lr.predict(X_test)\n",
    "\n",
    "lr_pp = precision_score(y_test, y_pred)\n",
    "lr_pr = recall_score(y_test, y_pred)\n",
    "lr_np = precision_score(y_test, y_pred, pos_label = 0)\n",
    "lr_nr = recall_score(y_test, y_pred, pos_label = 0)\n",
    "lr_a = accuracy_score(y_test, y_pred)\n",
    "\n",
    "print(\"Positive sentiment precision:\", lr_pp)\n",
    "print(\"Positive sentiment recall:\", lr_pr)\n",
    "print(\"Negative sentiment precision:\", lr_np)\n",
    "print(\"Negative sentiment recall:\", lr_nr)\n",
    "print(\"Classification accuracy:\", lr_a)"
   ]
  },
  {
   "cell_type": "markdown",
   "metadata": {},
   "source": [
    "We build a sentiment model based on a trained logistics model. That is, we build a function that will evaluate the sentiment of the word."
   ]
  },
  {
   "cell_type": "code",
   "execution_count": 10,
   "metadata": {},
   "outputs": [
    {
     "name": "stdout",
     "output_type": "stream",
     "text": [
      "10 words about the most negative sentiment according to the model: \n",
      " 0       (my, -2.4104868241185495)\n",
      "1        (me, -2.309895459560698)\n",
      "2    (later, -1.7135523122314413)\n",
      "3       (ok, -1.6606420394645691)\n",
      "4    (sorry, -1.4359506898234085)\n",
      "5     (come, -1.3392301167576812)\n",
      "6     (that, -1.3184076391147828)\n",
      "7       (am, -1.2827013859012726)\n",
      "8      (its, -1.1701262142684117)\n",
      "9       (but, -1.167393044951167)\n",
      "dtype: object\n",
      "\n",
      "\n",
      "10 words about the most positive sentiment by model: \n",
      " 0      (call, 5.052783611207893)\n",
      "1       (txt, 5.052080169458518)\n",
      "2     (text, 3.8477940362474317)\n",
      "3      (stop, 3.578383004296906)\n",
      "4    (claim, 3.5333592147941113)\n",
      "5       (to, 3.4252688042070196)\n",
      "6      (reply, 3.21759873011989)\n",
      "7     (free, 3.1678209308422787)\n",
      "8    (mobile, 2.862659402750486)\n",
      "9     (chat, 2.8054452775594085)\n",
      "dtype: object\n"
     ]
    }
   ],
   "source": [
    "weights = list(zip(tfidf.get_feature_names(),lr.coef_[0]))\n",
    "weights.sort(key = lambda x:x[1])\n",
    "print('10 words about the most negative sentiment according to the model: \\n', pd.Series(weights[:10]))\n",
    "print('\\n')\n",
    "weights.sort(key = lambda x:x[1],reverse = True)\n",
    "print('10 words about the most positive sentiment by model: \\n', pd.Series(weights[:10]))"
   ]
  },
  {
   "cell_type": "markdown",
   "metadata": {},
   "source": [
    "**K-NN**"
   ]
  },
  {
   "cell_type": "code",
   "execution_count": 11,
   "metadata": {},
   "outputs": [
    {
     "name": "stdout",
     "output_type": "stream",
     "text": [
      "Positive sentiment precision: 1.0\n",
      "Positive sentiment recall: 0.453125\n",
      "Negative sentiment precision: 0.9196018376722818\n",
      "Negative sentiment recall: 1.0\n",
      "Classification accuracy: 0.9246231155778895\n"
     ]
    }
   ],
   "source": [
    "knn = KNeighborsClassifier(n_jobs=-1)\n",
    "knn.fit(X_train, y_train)\n",
    "y_pred = knn.predict(X_test)\n",
    "\n",
    "knn_pp = precision_score(y_test, y_pred)\n",
    "knn_pr = recall_score(y_test, y_pred)\n",
    "knn_np = precision_score(y_test, y_pred, pos_label = 0)\n",
    "knn_nr = recall_score(y_test, y_pred, pos_label = 0)\n",
    "knn_a = accuracy_score(y_test, y_pred)\n",
    "\n",
    "print(\"Positive sentiment precision:\", knn_pp)\n",
    "print(\"Positive sentiment recall:\", knn_pr)\n",
    "print(\"Negative sentiment precision:\", knn_np)\n",
    "print(\"Negative sentiment recall:\", knn_nr)\n",
    "print(\"Classification accuracy:\", knn_a)"
   ]
  },
  {
   "cell_type": "markdown",
   "metadata": {},
   "source": [
    "**Decision tree**"
   ]
  },
  {
   "cell_type": "code",
   "execution_count": 12,
   "metadata": {},
   "outputs": [
    {
     "name": "stdout",
     "output_type": "stream",
     "text": [
      "Positive sentiment precision: 0.9090909090909091\n",
      "Positive sentiment recall: 0.6770833333333334\n",
      "Negative sentiment precision: 0.9504\n",
      "Negative sentiment recall: 0.9891756869275604\n",
      "Classification accuracy: 0.9461593682699211\n"
     ]
    }
   ],
   "source": [
    "dt = DecisionTreeClassifier(max_depth=5)\n",
    "dt.fit(X_train,y_train)\n",
    "y_pred = dt.predict(X_test)\n",
    "\n",
    "dt_pp = precision_score(y_test, y_pred)\n",
    "dt_pr = recall_score(y_test, y_pred)\n",
    "dt_np = precision_score(y_test, y_pred, pos_label = 0)\n",
    "dt_nr = recall_score(y_test, y_pred, pos_label = 0)\n",
    "dt_a = accuracy_score(y_test, y_pred)\n",
    "\n",
    "print(\"Positive sentiment precision:\",dt_pp)\n",
    "print(\"Positive sentiment recall:\",dt_pr)\n",
    "print(\"Negative sentiment precision:\",dt_np)\n",
    "print(\"Negative sentiment recall:\",dt_nr)\n",
    "print(\"Classification accuracy:\",dt_a)"
   ]
  },
  {
   "cell_type": "markdown",
   "metadata": {},
   "source": [
    "**Naive Bayes**\n",
    "\n",
    "First, let's ask which algorithm to choose - `GaussianNB()` or `CategoricalNB()` or `MultinomialNB()`?\n",
    "- `GaussianNB()` - when you have continuous features\n",
    "- `CategoricalNB()` - when you have categorical data\n",
    "- `MultinomialNB()` - applied to text data\n",
    "\n",
    "So we will use `MultinomialNB()`."
   ]
  },
  {
   "cell_type": "code",
   "execution_count": 13,
   "metadata": {},
   "outputs": [
    {
     "name": "stdout",
     "output_type": "stream",
     "text": [
      "Positive sentiment precision: 0.9863945578231292\n",
      "Positive sentiment recall: 0.7552083333333334\n",
      "Negative sentiment precision: 0.9622792937399679\n",
      "Negative sentiment recall: 0.9983347210657785\n",
      "Classification accuracy: 0.964824120603015\n"
     ]
    }
   ],
   "source": [
    "nb = MultinomialNB()\n",
    "nb.fit(X_train,y_train)\n",
    "y_pred = nb.predict(X_test)\n",
    "\n",
    "nb_pp = precision_score(y_test, y_pred)\n",
    "nb_pr = recall_score(y_test, y_pred)\n",
    "nb_np = precision_score(y_test, y_pred, pos_label = 0)\n",
    "nb_nr = recall_score(y_test, y_pred, pos_label = 0)\n",
    "nb_a = accuracy_score(y_test, y_pred)\n",
    "\n",
    "print(\"Positive sentiment precision:\", nb_pp)\n",
    "print(\"Positive sentiment recall:\", nb_pr)\n",
    "print(\"Negative sentiment precision:\", nb_np)\n",
    "print(\"Negative sentiment recall:\", nb_nr)\n",
    "print(\"Classification accuracy:\", nb_a)"
   ]
  },
  {
   "cell_type": "markdown",
   "metadata": {},
   "source": [
    "### Summary of the classification\n",
    "\n",
    "**Sentiment precision**"
   ]
  },
  {
   "cell_type": "code",
   "execution_count": 14,
   "metadata": {},
   "outputs": [],
   "source": [
    "scores_precision = pd.DataFrame.from_dict({\"classification\":['Logistic Regression','Logistic Regression','K-NN','K-NN','Decision tree','Decision tree','Naive Bayes','Naive Bayes'],\n",
    "                                \"scores_values\" : [lr_pp, lr_np, knn_pp, knn_np, dt_pp, dt_np, nb_pp, nb_np], \n",
    "                                \"sentiment precision\":[\"Positive\", \"Negative\", \"Positive\",\"Negative\",\"Positive\", \"Negative\", \"Positive\",\"Negative\"]})"
   ]
  },
  {
   "cell_type": "code",
   "execution_count": 15,
   "metadata": {},
   "outputs": [
    {
     "data": {
      "image/png": "[encoded data removed]",
      "text/plain": [
       "<Figure size 432x288 with 1 Axes>"
      ]
     },
     "metadata": {},
     "output_type": "display_data"
    }
   ],
   "source": [
    "sns.set_theme()\n",
    "sns.barplot(data=scores_precision, x='classification', y='scores_values', hue='sentiment precision')\n",
    "plt.title(\"Precision scores\")\n",
    "plt.xticks(rotation= 45)\n",
    "plt.legend(bbox_to_anchor=(1.02, 0.55), loc='upper left', borderaxespad=0)\n",
    "plt.show()"
   ]
  },
  {
   "cell_type": "markdown",
   "metadata": {},
   "source": [
    "We can see that the best precision was shown by logistic regression and the naive Bayes classifier, but the K-NN and the decision tree do not stand out much."
   ]
  },
  {
   "cell_type": "markdown",
   "metadata": {},
   "source": [
    "**Sentiment recall**"
   ]
  },
  {
   "cell_type": "code",
   "execution_count": 16,
   "metadata": {},
   "outputs": [],
   "source": [
    "scores_recall = pd.DataFrame.from_dict({\"classification\":['Logistic Regression','Logistic Regression','K-NN','K-NN','Decision tree','Decision tree','Naive Bayes','Naive Bayes'],\n",
    "                                \"scores_values\" : [lr_pr, lr_nr, knn_pr, knn_nr, dt_pr, dt_nr, nb_pr, nb_nr], \n",
    "                                \"sentiment recall\":[\"Positive\", \"Negative\", \"Positive\",\"Negative\",\"Positive\", \"Negative\", \"Positive\",\"Negative\"]})"
   ]
  },
  {
   "cell_type": "code",
   "execution_count": 17,
   "metadata": {},
   "outputs": [
    {
     "data": {
      "image/png": "[encoded data removed]",
      "text/plain": [
       "<Figure size 432x288 with 1 Axes>"
      ]
     },
     "metadata": {},
     "output_type": "display_data"
    }
   ],
   "source": [
    "sns.set_theme()\n",
    "sns.barplot(data=scores_recall, x='classification', y='scores_values', hue='sentiment recall')\n",
    "plt.title(\"Recall scores\")\n",
    "plt.xticks(rotation= 45)\n",
    "plt.legend(bbox_to_anchor=(1.02, 0.55), loc='upper left', borderaxespad=0)\n",
    "plt.show()"
   ]
  },
  {
   "cell_type": "markdown",
   "metadata": {},
   "source": [
    "Negative sentiment recall for all 4 classifiers are of a similar level, differences are shown in Positive sentiment recall. We can see that the k-NN classifier did the worst. The best is logistic regression."
   ]
  },
  {
   "cell_type": "markdown",
   "metadata": {},
   "source": [
    "**Classification accuracy**"
   ]
  },
  {
   "cell_type": "code",
   "execution_count": 18,
   "metadata": {},
   "outputs": [],
   "source": [
    "scores_accuracy = pd.DataFrame.from_dict({\"classification\":['Logistic Regression','K-NN','Decision tree','Naive Bayes'],\n",
    "                                \"scores_values\" : [lr_a, knn_a, dt_a, nb_a]})"
   ]
  },
  {
   "cell_type": "code",
   "execution_count": 19,
   "metadata": {},
   "outputs": [
    {
     "data": {
      "image/png": "[encoded data removed]",
      "text/plain": [
       "<Figure size 432x288 with 1 Axes>"
      ]
     },
     "metadata": {},
     "output_type": "display_data"
    }
   ],
   "source": [
    "sns.set_theme()\n",
    "sns.barplot(data=scores_accuracy, x='classification', y='scores_values')\n",
    "plt.title(\"Accuracy scores\")\n",
    "plt.xticks(rotation= 45)\n",
    "plt.show()"
   ]
  },
  {
   "cell_type": "markdown",
   "metadata": {},
   "source": [
    "The naive Bayesian classifier and logistic regression have the highest accuracy."
   ]
  },
  {
   "cell_type": "markdown",
   "metadata": {},
   "source": [
    "**Conclusion**\n",
    "\n",
    "Summarizing all of the above, **logistic regression** turned out to be the best classifier."
   ]
  }
 ],
 "metadata": {
  "kernelspec": {
   "display_name": "Python 3",
   "language": "python",
   "name": "python3"
  },
  "language_info": {
   "codemirror_mode": {
    "name": "ipython",
    "version": 3
   },
   "file_extension": ".py",
   "mimetype": "text/x-python",
   "name": "python",
   "nbconvert_exporter": "python",
   "pygments_lexer": "ipython3",
   "version": "3.8.5"
  }
 },
 "nbformat": 4,
 "nbformat_minor": 4
}
