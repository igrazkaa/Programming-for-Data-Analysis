{
 "cells": [
  {
   "cell_type": "markdown",
   "metadata": {},
   "source": [
    "Author: Grażyna Rozmysłowicz\n",
    "\n",
    "# Boston Housing\n",
    "Data: `BostonHousing.csv`\n",
    "\n",
    "Source: https://www.kaggle.com/c/boston-housing\n",
    "\n",
    "Fun facts: https://towardsdatascience.com/things-you-didnt-know-about-the-boston-housing-dataset-2e87a6f960e8\n",
    "\n",
    "The Boston Housing Dataset is a derived from information collected by the U.S. Census Service concerning housing in the area of Boston MA. The following describes the dataset columns:\n",
    "- **crim** - per capita crime rate by town.\n",
    "- **zn** - proportion of residential land zoned for lots over 25,000 sq.ft.\n",
    "- **indus** - proportion of non-retail business acres per town.\n",
    "- **chas** - Charles River dummy variable (= 1 if tract bounds river; 0 otherwise).\n",
    "- **nox** - nitrogen oxides concentration (parts per 10 million).\n",
    "- **rm** - average number of rooms per dwelling.\n",
    "- **age** - proportion of owner-occupied units built prior to 1940.\n",
    "- **dis** - weighted mean of distances to five Boston employment centres.\n",
    "- **rad** - index of accessibility to radial highways.\n",
    "- **tax** - full-value property-tax rate per \\$ 10,000.\n",
    "- **ptratio** - pupil-teacher ratio by town.\n",
    "- **black** - 1000(Bk - 0.63)^2, where Bk is the proportion of blacks by town.\n",
    "- **lstat** - lower status of the population (percent).\n",
    "- **medv** - median value of owner-occupied homes in $1000s."
   ]
  },
  {
   "cell_type": "markdown",
   "metadata": {},
   "source": [
    "## Project structure\n",
    "\n",
    "[1. Importing libraries](#1.-Importing-libraries) <br>\n",
    "[2. Uploading data](#2.-Uploading-data)<br>\n",
    "[3. Missing values](#3.-Missing-values)<br>\n",
    "[4. Censored data](#4.-Censored-data)<br>\n",
    "[5. Assignments - Processing](#5.-Assignments-_-Processing)<br>\n",
    "\n",
    "- Assignment 1 - data division\n",
    "- Assignment 2 - standardization \n",
    "- Assignment 3 - correlation matrix\n",
    "\n",
    "[6. Assignments - Modelling](#6.-Assignments-_-Modelling)<br>\n",
    "\n",
    "- Assignment 1 - linear regression\n",
    "- Assignment 2 - neural network\n",
    "- Assignment 3 - comparison\n",
    "\n",
    "[7. Assignments - Visualization ](#7.-Assignments-_-Visualization )<br>\n",
    "\n",
    "- Assignment 1 - scatter plot\n",
    "- Assignment 2 - Dashboard"
   ]
  },
  {
   "cell_type": "markdown",
   "metadata": {},
   "source": [
    "### 1. Importing libraries"
   ]
  },
  {
   "cell_type": "code",
   "execution_count": 54,
   "metadata": {},
   "outputs": [],
   "source": [
    "import pandas as pd\n",
    "import numpy as np\n",
    "import matplotlib.pyplot as plt\n",
    "%matplotlib inline\n",
    "import seaborn as sns\n",
    "import plotly.express as px\n",
    "\n",
    "from sklearn import metrics\n",
    "from sklearn.metrics import mean_squared_error\n",
    "#from sklearn.metrics import r2_score\n",
    "from sklearn.model_selection import train_test_split\n",
    "from sklearn.preprocessing import StandardScaler\n",
    "from sklearn.linear_model import LinearRegression\n",
    "\n",
    "import tensorflow as tf\n",
    "from tensorflow import keras\n",
    "from keras.models import Sequential\n",
    "from keras.layers import Dense\n",
    "from keras.losses import MeanSquaredError\n",
    "\n",
    "import dash\n",
    "from dash import dcc\n",
    "from dash import html\n",
    "import plotly.graph_objs as go\n",
    "from jupyter_dash import JupyterDash\n",
    "from dash.dependencies import Input, Output"
   ]
  },
  {
   "cell_type": "markdown",
   "metadata": {},
   "source": [
    "### 2. Uploading data"
   ]
  },
  {
   "cell_type": "code",
   "execution_count": 55,
   "metadata": {},
   "outputs": [
    {
     "data": {
      "text/html": [
       "<div>\n",
       "<style scoped>\n",
       "    .dataframe tbody tr th:only-of-type {\n",
       "        vertical-align: middle;\n",
       "    }\n",
       "\n",
       "    .dataframe tbody tr th {\n",
       "        vertical-align: top;\n",
       "    }\n",
       "\n",
       "    .dataframe thead th {\n",
       "        text-align: right;\n",
       "    }\n",
       "</style>\n",
       "<table border=\"1\" class=\"dataframe\">\n",
       "  <thead>\n",
       "    <tr style=\"text-align: right;\">\n",
       "      <th></th>\n",
       "      <th>crim</th>\n",
       "      <th>zn</th>\n",
       "      <th>indus</th>\n",
       "      <th>chas</th>\n",
       "      <th>nox</th>\n",
       "      <th>rm</th>\n",
       "      <th>age</th>\n",
       "      <th>dis</th>\n",
       "      <th>rad</th>\n",
       "      <th>tax</th>\n",
       "      <th>ptratio</th>\n",
       "      <th>b</th>\n",
       "      <th>lstat</th>\n",
       "      <th>medv</th>\n",
       "    </tr>\n",
       "  </thead>\n",
       "  <tbody>\n",
       "    <tr>\n",
       "      <th>0</th>\n",
       "      <td>0.00632</td>\n",
       "      <td>18.0</td>\n",
       "      <td>2.31</td>\n",
       "      <td>0</td>\n",
       "      <td>0.538</td>\n",
       "      <td>6.575</td>\n",
       "      <td>65.2</td>\n",
       "      <td>4.0900</td>\n",
       "      <td>1</td>\n",
       "      <td>296</td>\n",
       "      <td>15.3</td>\n",
       "      <td>396.90</td>\n",
       "      <td>4.98</td>\n",
       "      <td>24.0</td>\n",
       "    </tr>\n",
       "    <tr>\n",
       "      <th>1</th>\n",
       "      <td>0.02731</td>\n",
       "      <td>0.0</td>\n",
       "      <td>7.07</td>\n",
       "      <td>0</td>\n",
       "      <td>0.469</td>\n",
       "      <td>6.421</td>\n",
       "      <td>78.9</td>\n",
       "      <td>4.9671</td>\n",
       "      <td>2</td>\n",
       "      <td>242</td>\n",
       "      <td>17.8</td>\n",
       "      <td>396.90</td>\n",
       "      <td>9.14</td>\n",
       "      <td>21.6</td>\n",
       "    </tr>\n",
       "    <tr>\n",
       "      <th>2</th>\n",
       "      <td>0.02729</td>\n",
       "      <td>0.0</td>\n",
       "      <td>7.07</td>\n",
       "      <td>0</td>\n",
       "      <td>0.469</td>\n",
       "      <td>7.185</td>\n",
       "      <td>61.1</td>\n",
       "      <td>4.9671</td>\n",
       "      <td>2</td>\n",
       "      <td>242</td>\n",
       "      <td>17.8</td>\n",
       "      <td>392.83</td>\n",
       "      <td>4.03</td>\n",
       "      <td>34.7</td>\n",
       "    </tr>\n",
       "    <tr>\n",
       "      <th>3</th>\n",
       "      <td>0.03237</td>\n",
       "      <td>0.0</td>\n",
       "      <td>2.18</td>\n",
       "      <td>0</td>\n",
       "      <td>0.458</td>\n",
       "      <td>6.998</td>\n",
       "      <td>45.8</td>\n",
       "      <td>6.0622</td>\n",
       "      <td>3</td>\n",
       "      <td>222</td>\n",
       "      <td>18.7</td>\n",
       "      <td>394.63</td>\n",
       "      <td>2.94</td>\n",
       "      <td>33.4</td>\n",
       "    </tr>\n",
       "    <tr>\n",
       "      <th>4</th>\n",
       "      <td>0.06905</td>\n",
       "      <td>0.0</td>\n",
       "      <td>2.18</td>\n",
       "      <td>0</td>\n",
       "      <td>0.458</td>\n",
       "      <td>7.147</td>\n",
       "      <td>54.2</td>\n",
       "      <td>6.0622</td>\n",
       "      <td>3</td>\n",
       "      <td>222</td>\n",
       "      <td>18.7</td>\n",
       "      <td>396.90</td>\n",
       "      <td>5.33</td>\n",
       "      <td>36.2</td>\n",
       "    </tr>\n",
       "  </tbody>\n",
       "</table>\n",
       "</div>"
      ],
      "text/plain": [
       "      crim    zn  indus  chas    nox     rm   age     dis  rad  tax  ptratio  \\\n",
       "0  0.00632  18.0   2.31     0  0.538  6.575  65.2  4.0900    1  296     15.3   \n",
       "1  0.02731   0.0   7.07     0  0.469  6.421  78.9  4.9671    2  242     17.8   \n",
       "2  0.02729   0.0   7.07     0  0.469  7.185  61.1  4.9671    2  242     17.8   \n",
       "3  0.03237   0.0   2.18     0  0.458  6.998  45.8  6.0622    3  222     18.7   \n",
       "4  0.06905   0.0   2.18     0  0.458  7.147  54.2  6.0622    3  222     18.7   \n",
       "\n",
       "        b  lstat  medv  \n",
       "0  396.90   4.98  24.0  \n",
       "1  396.90   9.14  21.6  \n",
       "2  392.83   4.03  34.7  \n",
       "3  394.63   2.94  33.4  \n",
       "4  396.90   5.33  36.2  "
      ]
     },
     "execution_count": 55,
     "metadata": {},
     "output_type": "execute_result"
    }
   ],
   "source": [
    "df_start = pd.read_csv('datasets/BostonHousing.csv', sep=',', decimal='.')\n",
    "df_start.head()"
   ]
  },
  {
   "cell_type": "code",
   "execution_count": 56,
   "metadata": {},
   "outputs": [
    {
     "name": "stdout",
     "output_type": "stream",
     "text": [
      "<class 'pandas.core.frame.DataFrame'>\n",
      "RangeIndex: 506 entries, 0 to 505\n",
      "Data columns (total 14 columns):\n",
      " #   Column   Non-Null Count  Dtype  \n",
      "---  ------   --------------  -----  \n",
      " 0   crim     506 non-null    float64\n",
      " 1   zn       506 non-null    float64\n",
      " 2   indus    506 non-null    float64\n",
      " 3   chas     506 non-null    int64  \n",
      " 4   nox      506 non-null    float64\n",
      " 5   rm       506 non-null    float64\n",
      " 6   age      506 non-null    float64\n",
      " 7   dis      506 non-null    float64\n",
      " 8   rad      506 non-null    int64  \n",
      " 9   tax      506 non-null    int64  \n",
      " 10  ptratio  506 non-null    float64\n",
      " 11  b        506 non-null    float64\n",
      " 12  lstat    506 non-null    float64\n",
      " 13  medv     506 non-null    float64\n",
      "dtypes: float64(11), int64(3)\n",
      "memory usage: 55.5 KB\n"
     ]
    }
   ],
   "source": [
    "df_start.info()"
   ]
  },
  {
   "cell_type": "code",
   "execution_count": 57,
   "metadata": {},
   "outputs": [
    {
     "data": {
      "text/html": [
       "<div>\n",
       "<style scoped>\n",
       "    .dataframe tbody tr th:only-of-type {\n",
       "        vertical-align: middle;\n",
       "    }\n",
       "\n",
       "    .dataframe tbody tr th {\n",
       "        vertical-align: top;\n",
       "    }\n",
       "\n",
       "    .dataframe thead th {\n",
       "        text-align: right;\n",
       "    }\n",
       "</style>\n",
       "<table border=\"1\" class=\"dataframe\">\n",
       "  <thead>\n",
       "    <tr style=\"text-align: right;\">\n",
       "      <th></th>\n",
       "      <th>crim</th>\n",
       "      <th>zn</th>\n",
       "      <th>indus</th>\n",
       "      <th>chas</th>\n",
       "      <th>nox</th>\n",
       "      <th>rm</th>\n",
       "      <th>age</th>\n",
       "      <th>dis</th>\n",
       "      <th>rad</th>\n",
       "      <th>tax</th>\n",
       "      <th>ptratio</th>\n",
       "      <th>b</th>\n",
       "      <th>lstat</th>\n",
       "      <th>medv</th>\n",
       "    </tr>\n",
       "  </thead>\n",
       "  <tbody>\n",
       "    <tr>\n",
       "      <th>count</th>\n",
       "      <td>506.000000</td>\n",
       "      <td>506.000000</td>\n",
       "      <td>506.000000</td>\n",
       "      <td>506.000000</td>\n",
       "      <td>506.000000</td>\n",
       "      <td>506.000000</td>\n",
       "      <td>506.000000</td>\n",
       "      <td>506.000000</td>\n",
       "      <td>506.000000</td>\n",
       "      <td>506.000000</td>\n",
       "      <td>506.000000</td>\n",
       "      <td>506.000000</td>\n",
       "      <td>506.000000</td>\n",
       "      <td>506.000000</td>\n",
       "    </tr>\n",
       "    <tr>\n",
       "      <th>mean</th>\n",
       "      <td>3.613524</td>\n",
       "      <td>11.363636</td>\n",
       "      <td>11.136779</td>\n",
       "      <td>0.069170</td>\n",
       "      <td>0.554695</td>\n",
       "      <td>6.284634</td>\n",
       "      <td>68.574901</td>\n",
       "      <td>3.795043</td>\n",
       "      <td>9.549407</td>\n",
       "      <td>408.237154</td>\n",
       "      <td>18.455534</td>\n",
       "      <td>356.674032</td>\n",
       "      <td>12.653063</td>\n",
       "      <td>22.532806</td>\n",
       "    </tr>\n",
       "    <tr>\n",
       "      <th>std</th>\n",
       "      <td>8.601545</td>\n",
       "      <td>23.322453</td>\n",
       "      <td>6.860353</td>\n",
       "      <td>0.253994</td>\n",
       "      <td>0.115878</td>\n",
       "      <td>0.702617</td>\n",
       "      <td>28.148861</td>\n",
       "      <td>2.105710</td>\n",
       "      <td>8.707259</td>\n",
       "      <td>168.537116</td>\n",
       "      <td>2.164946</td>\n",
       "      <td>91.294864</td>\n",
       "      <td>7.141062</td>\n",
       "      <td>9.197104</td>\n",
       "    </tr>\n",
       "    <tr>\n",
       "      <th>min</th>\n",
       "      <td>0.006320</td>\n",
       "      <td>0.000000</td>\n",
       "      <td>0.460000</td>\n",
       "      <td>0.000000</td>\n",
       "      <td>0.385000</td>\n",
       "      <td>3.561000</td>\n",
       "      <td>2.900000</td>\n",
       "      <td>1.129600</td>\n",
       "      <td>1.000000</td>\n",
       "      <td>187.000000</td>\n",
       "      <td>12.600000</td>\n",
       "      <td>0.320000</td>\n",
       "      <td>1.730000</td>\n",
       "      <td>5.000000</td>\n",
       "    </tr>\n",
       "    <tr>\n",
       "      <th>25%</th>\n",
       "      <td>0.082045</td>\n",
       "      <td>0.000000</td>\n",
       "      <td>5.190000</td>\n",
       "      <td>0.000000</td>\n",
       "      <td>0.449000</td>\n",
       "      <td>5.885500</td>\n",
       "      <td>45.025000</td>\n",
       "      <td>2.100175</td>\n",
       "      <td>4.000000</td>\n",
       "      <td>279.000000</td>\n",
       "      <td>17.400000</td>\n",
       "      <td>375.377500</td>\n",
       "      <td>6.950000</td>\n",
       "      <td>17.025000</td>\n",
       "    </tr>\n",
       "    <tr>\n",
       "      <th>50%</th>\n",
       "      <td>0.256510</td>\n",
       "      <td>0.000000</td>\n",
       "      <td>9.690000</td>\n",
       "      <td>0.000000</td>\n",
       "      <td>0.538000</td>\n",
       "      <td>6.208500</td>\n",
       "      <td>77.500000</td>\n",
       "      <td>3.207450</td>\n",
       "      <td>5.000000</td>\n",
       "      <td>330.000000</td>\n",
       "      <td>19.050000</td>\n",
       "      <td>391.440000</td>\n",
       "      <td>11.360000</td>\n",
       "      <td>21.200000</td>\n",
       "    </tr>\n",
       "    <tr>\n",
       "      <th>75%</th>\n",
       "      <td>3.677082</td>\n",
       "      <td>12.500000</td>\n",
       "      <td>18.100000</td>\n",
       "      <td>0.000000</td>\n",
       "      <td>0.624000</td>\n",
       "      <td>6.623500</td>\n",
       "      <td>94.075000</td>\n",
       "      <td>5.188425</td>\n",
       "      <td>24.000000</td>\n",
       "      <td>666.000000</td>\n",
       "      <td>20.200000</td>\n",
       "      <td>396.225000</td>\n",
       "      <td>16.955000</td>\n",
       "      <td>25.000000</td>\n",
       "    </tr>\n",
       "    <tr>\n",
       "      <th>max</th>\n",
       "      <td>88.976200</td>\n",
       "      <td>100.000000</td>\n",
       "      <td>27.740000</td>\n",
       "      <td>1.000000</td>\n",
       "      <td>0.871000</td>\n",
       "      <td>8.780000</td>\n",
       "      <td>100.000000</td>\n",
       "      <td>12.126500</td>\n",
       "      <td>24.000000</td>\n",
       "      <td>711.000000</td>\n",
       "      <td>22.000000</td>\n",
       "      <td>396.900000</td>\n",
       "      <td>37.970000</td>\n",
       "      <td>50.000000</td>\n",
       "    </tr>\n",
       "  </tbody>\n",
       "</table>\n",
       "</div>"
      ],
      "text/plain": [
       "             crim          zn       indus        chas         nox          rm  \\\n",
       "count  506.000000  506.000000  506.000000  506.000000  506.000000  506.000000   \n",
       "mean     3.613524   11.363636   11.136779    0.069170    0.554695    6.284634   \n",
       "std      8.601545   23.322453    6.860353    0.253994    0.115878    0.702617   \n",
       "min      0.006320    0.000000    0.460000    0.000000    0.385000    3.561000   \n",
       "25%      0.082045    0.000000    5.190000    0.000000    0.449000    5.885500   \n",
       "50%      0.256510    0.000000    9.690000    0.000000    0.538000    6.208500   \n",
       "75%      3.677082   12.500000   18.100000    0.000000    0.624000    6.623500   \n",
       "max     88.976200  100.000000   27.740000    1.000000    0.871000    8.780000   \n",
       "\n",
       "              age         dis         rad         tax     ptratio           b  \\\n",
       "count  506.000000  506.000000  506.000000  506.000000  506.000000  506.000000   \n",
       "mean    68.574901    3.795043    9.549407  408.237154   18.455534  356.674032   \n",
       "std     28.148861    2.105710    8.707259  168.537116    2.164946   91.294864   \n",
       "min      2.900000    1.129600    1.000000  187.000000   12.600000    0.320000   \n",
       "25%     45.025000    2.100175    4.000000  279.000000   17.400000  375.377500   \n",
       "50%     77.500000    3.207450    5.000000  330.000000   19.050000  391.440000   \n",
       "75%     94.075000    5.188425   24.000000  666.000000   20.200000  396.225000   \n",
       "max    100.000000   12.126500   24.000000  711.000000   22.000000  396.900000   \n",
       "\n",
       "            lstat        medv  \n",
       "count  506.000000  506.000000  \n",
       "mean    12.653063   22.532806  \n",
       "std      7.141062    9.197104  \n",
       "min      1.730000    5.000000  \n",
       "25%      6.950000   17.025000  \n",
       "50%     11.360000   21.200000  \n",
       "75%     16.955000   25.000000  \n",
       "max     37.970000   50.000000  "
      ]
     },
     "execution_count": 57,
     "metadata": {},
     "output_type": "execute_result"
    }
   ],
   "source": [
    "df_start.describe()"
   ]
  },
  {
   "cell_type": "markdown",
   "metadata": {},
   "source": [
    "### 3. Missing values"
   ]
  },
  {
   "cell_type": "code",
   "execution_count": 58,
   "metadata": {},
   "outputs": [
    {
     "data": {
      "text/plain": [
       "<AxesSubplot:>"
      ]
     },
     "execution_count": 58,
     "metadata": {},
     "output_type": "execute_result"
    },
    {
     "data": {
      "image/png": "[encoded data removed]",
      "text/plain": [
       "<Figure size 432x288 with 1 Axes>"
      ]
     },
     "metadata": {
      "needs_background": "light"
     },
     "output_type": "display_data"
    }
   ],
   "source": [
    "sns.heatmap(df_start.isnull(),yticklabels=False,cbar=False,cmap='viridis')"
   ]
  },
  {
   "cell_type": "code",
   "execution_count": 59,
   "metadata": {},
   "outputs": [
    {
     "data": {
      "text/plain": [
       "crim       0\n",
       "zn         0\n",
       "indus      0\n",
       "chas       0\n",
       "nox        0\n",
       "rm         0\n",
       "age        0\n",
       "dis        0\n",
       "rad        0\n",
       "tax        0\n",
       "ptratio    0\n",
       "b          0\n",
       "lstat      0\n",
       "medv       0\n",
       "dtype: int64"
      ]
     },
     "execution_count": 59,
     "metadata": {},
     "output_type": "execute_result"
    }
   ],
   "source": [
    "df_start.isnull().sum()"
   ]
  },
  {
   "cell_type": "markdown",
   "metadata": {},
   "source": [
    "There is no missing data."
   ]
  },
  {
   "cell_type": "markdown",
   "metadata": {},
   "source": [
    "### 4. Censored data"
   ]
  },
  {
   "cell_type": "code",
   "execution_count": 60,
   "metadata": {},
   "outputs": [
    {
     "data": {
      "text/plain": [
       "Text(0, 0.5, 'Value of house / 1000 USD (medv)')"
      ]
     },
     "execution_count": 60,
     "metadata": {},
     "output_type": "execute_result"
    },
    {
     "data": {
      "image/png": "[encoded data removed]",
      "text/plain": [
       "<Figure size 432x288 with 1 Axes>"
      ]
     },
     "metadata": {},
     "output_type": "display_data"
    }
   ],
   "source": [
    "sns.set_theme()\n",
    "sns.scatterplot(data=df_start, x='rm',y='medv')\n",
    "plt.xlabel('Number of rooms (rm)')\n",
    "plt.ylabel('Value of house / 1000 USD (medv)')"
   ]
  },
  {
   "cell_type": "markdown",
   "metadata": {},
   "source": [
    "Notice that prices of homes seem to be capped at 50. This is because the Census Service censored the data. Censoring data means restricting the range of possible values of a variable. In this case, they decided to set the maximum value of the price variable to 50k USD, so no price can go beyond that value. In reality, these prices were probably higher."
   ]
  },
  {
   "cell_type": "markdown",
   "metadata": {},
   "source": [
    "### 5. Assignments _ Processing"
   ]
  },
  {
   "cell_type": "markdown",
   "metadata": {},
   "source": [
    "<u>**Assignment 2**</u> Remove the `Chas` column. Standardize all columns except `Medv`.\n"
   ]
  },
  {
   "cell_type": "code",
   "execution_count": 61,
   "metadata": {},
   "outputs": [],
   "source": [
    "df2 = df_start.drop('chas', axis=1)"
   ]
  },
  {
   "cell_type": "markdown",
   "metadata": {},
   "source": [
    "We create a StandardScaler() object called scaler, fit it to the features."
   ]
  },
  {
   "cell_type": "code",
   "execution_count": 62,
   "metadata": {},
   "outputs": [
    {
     "data": {
      "text/plain": [
       "StandardScaler()"
      ]
     },
     "execution_count": 62,
     "metadata": {},
     "output_type": "execute_result"
    }
   ],
   "source": [
    "scaler = StandardScaler()\n",
    "scaler.fit(df2.drop('medv', axis=1))"
   ]
  },
  {
   "cell_type": "markdown",
   "metadata": {},
   "source": [
    "We use the .transform() method to transform the features to a scaled version."
   ]
  },
  {
   "cell_type": "code",
   "execution_count": 63,
   "metadata": {},
   "outputs": [],
   "source": [
    "scaled_features = scaler.transform(df2.drop('medv', axis=1))"
   ]
  },
  {
   "cell_type": "markdown",
   "metadata": {},
   "source": [
    "We convert the scaled features to a dataframe and check the head of this dataframe to make sure the scaling worked."
   ]
  },
  {
   "cell_type": "code",
   "execution_count": 64,
   "metadata": {},
   "outputs": [
    {
     "data": {
      "text/html": [
       "<div>\n",
       "<style scoped>\n",
       "    .dataframe tbody tr th:only-of-type {\n",
       "        vertical-align: middle;\n",
       "    }\n",
       "\n",
       "    .dataframe tbody tr th {\n",
       "        vertical-align: top;\n",
       "    }\n",
       "\n",
       "    .dataframe thead th {\n",
       "        text-align: right;\n",
       "    }\n",
       "</style>\n",
       "<table border=\"1\" class=\"dataframe\">\n",
       "  <thead>\n",
       "    <tr style=\"text-align: right;\">\n",
       "      <th></th>\n",
       "      <th>crim</th>\n",
       "      <th>zn</th>\n",
       "      <th>indus</th>\n",
       "      <th>nox</th>\n",
       "      <th>rm</th>\n",
       "      <th>age</th>\n",
       "      <th>dis</th>\n",
       "      <th>rad</th>\n",
       "      <th>tax</th>\n",
       "      <th>ptratio</th>\n",
       "      <th>b</th>\n",
       "      <th>lstat</th>\n",
       "      <th>medv</th>\n",
       "    </tr>\n",
       "  </thead>\n",
       "  <tbody>\n",
       "    <tr>\n",
       "      <th>0</th>\n",
       "      <td>-0.419782</td>\n",
       "      <td>0.284830</td>\n",
       "      <td>-1.287909</td>\n",
       "      <td>-0.144217</td>\n",
       "      <td>0.413672</td>\n",
       "      <td>-0.120013</td>\n",
       "      <td>0.140214</td>\n",
       "      <td>-0.982843</td>\n",
       "      <td>-0.666608</td>\n",
       "      <td>-1.459000</td>\n",
       "      <td>0.441052</td>\n",
       "      <td>-1.075562</td>\n",
       "      <td>24.0</td>\n",
       "    </tr>\n",
       "    <tr>\n",
       "      <th>1</th>\n",
       "      <td>-0.417339</td>\n",
       "      <td>-0.487722</td>\n",
       "      <td>-0.593381</td>\n",
       "      <td>-0.740262</td>\n",
       "      <td>0.194274</td>\n",
       "      <td>0.367166</td>\n",
       "      <td>0.557160</td>\n",
       "      <td>-0.867883</td>\n",
       "      <td>-0.987329</td>\n",
       "      <td>-0.303094</td>\n",
       "      <td>0.441052</td>\n",
       "      <td>-0.492439</td>\n",
       "      <td>21.6</td>\n",
       "    </tr>\n",
       "    <tr>\n",
       "      <th>2</th>\n",
       "      <td>-0.417342</td>\n",
       "      <td>-0.487722</td>\n",
       "      <td>-0.593381</td>\n",
       "      <td>-0.740262</td>\n",
       "      <td>1.282714</td>\n",
       "      <td>-0.265812</td>\n",
       "      <td>0.557160</td>\n",
       "      <td>-0.867883</td>\n",
       "      <td>-0.987329</td>\n",
       "      <td>-0.303094</td>\n",
       "      <td>0.396427</td>\n",
       "      <td>-1.208727</td>\n",
       "      <td>34.7</td>\n",
       "    </tr>\n",
       "    <tr>\n",
       "      <th>3</th>\n",
       "      <td>-0.416750</td>\n",
       "      <td>-0.487722</td>\n",
       "      <td>-1.306878</td>\n",
       "      <td>-0.835284</td>\n",
       "      <td>1.016303</td>\n",
       "      <td>-0.809889</td>\n",
       "      <td>1.077737</td>\n",
       "      <td>-0.752922</td>\n",
       "      <td>-1.106115</td>\n",
       "      <td>0.113032</td>\n",
       "      <td>0.416163</td>\n",
       "      <td>-1.361517</td>\n",
       "      <td>33.4</td>\n",
       "    </tr>\n",
       "    <tr>\n",
       "      <th>4</th>\n",
       "      <td>-0.412482</td>\n",
       "      <td>-0.487722</td>\n",
       "      <td>-1.306878</td>\n",
       "      <td>-0.835284</td>\n",
       "      <td>1.228577</td>\n",
       "      <td>-0.511180</td>\n",
       "      <td>1.077737</td>\n",
       "      <td>-0.752922</td>\n",
       "      <td>-1.106115</td>\n",
       "      <td>0.113032</td>\n",
       "      <td>0.441052</td>\n",
       "      <td>-1.026501</td>\n",
       "      <td>36.2</td>\n",
       "    </tr>\n",
       "  </tbody>\n",
       "</table>\n",
       "</div>"
      ],
      "text/plain": [
       "       crim        zn     indus       nox        rm       age       dis  \\\n",
       "0 -0.419782  0.284830 -1.287909 -0.144217  0.413672 -0.120013  0.140214   \n",
       "1 -0.417339 -0.487722 -0.593381 -0.740262  0.194274  0.367166  0.557160   \n",
       "2 -0.417342 -0.487722 -0.593381 -0.740262  1.282714 -0.265812  0.557160   \n",
       "3 -0.416750 -0.487722 -1.306878 -0.835284  1.016303 -0.809889  1.077737   \n",
       "4 -0.412482 -0.487722 -1.306878 -0.835284  1.228577 -0.511180  1.077737   \n",
       "\n",
       "        rad       tax   ptratio         b     lstat  medv  \n",
       "0 -0.982843 -0.666608 -1.459000  0.441052 -1.075562  24.0  \n",
       "1 -0.867883 -0.987329 -0.303094  0.441052 -0.492439  21.6  \n",
       "2 -0.867883 -0.987329 -0.303094  0.396427 -1.208727  34.7  \n",
       "3 -0.752922 -1.106115  0.113032  0.416163 -1.361517  33.4  \n",
       "4 -0.752922 -1.106115  0.113032  0.441052 -1.026501  36.2  "
      ]
     },
     "execution_count": 64,
     "metadata": {},
     "output_type": "execute_result"
    }
   ],
   "source": [
    "df = pd.DataFrame(scaled_features,columns=df2.columns[:-1])\n",
    "df['medv'] = df_start['medv']\n",
    "df.head()"
   ]
  },
  {
   "cell_type": "markdown",
   "metadata": {},
   "source": [
    "Below there is our data frame before standardization."
   ]
  },
  {
   "cell_type": "code",
   "execution_count": 65,
   "metadata": {},
   "outputs": [
    {
     "data": {
      "text/html": [
       "<div>\n",
       "<style scoped>\n",
       "    .dataframe tbody tr th:only-of-type {\n",
       "        vertical-align: middle;\n",
       "    }\n",
       "\n",
       "    .dataframe tbody tr th {\n",
       "        vertical-align: top;\n",
       "    }\n",
       "\n",
       "    .dataframe thead th {\n",
       "        text-align: right;\n",
       "    }\n",
       "</style>\n",
       "<table border=\"1\" class=\"dataframe\">\n",
       "  <thead>\n",
       "    <tr style=\"text-align: right;\">\n",
       "      <th></th>\n",
       "      <th>crim</th>\n",
       "      <th>zn</th>\n",
       "      <th>indus</th>\n",
       "      <th>nox</th>\n",
       "      <th>rm</th>\n",
       "      <th>age</th>\n",
       "      <th>dis</th>\n",
       "      <th>rad</th>\n",
       "      <th>tax</th>\n",
       "      <th>ptratio</th>\n",
       "      <th>b</th>\n",
       "      <th>lstat</th>\n",
       "      <th>medv</th>\n",
       "    </tr>\n",
       "  </thead>\n",
       "  <tbody>\n",
       "    <tr>\n",
       "      <th>0</th>\n",
       "      <td>0.00632</td>\n",
       "      <td>18.0</td>\n",
       "      <td>2.31</td>\n",
       "      <td>0.538</td>\n",
       "      <td>6.575</td>\n",
       "      <td>65.2</td>\n",
       "      <td>4.0900</td>\n",
       "      <td>1</td>\n",
       "      <td>296</td>\n",
       "      <td>15.3</td>\n",
       "      <td>396.90</td>\n",
       "      <td>4.98</td>\n",
       "      <td>24.0</td>\n",
       "    </tr>\n",
       "    <tr>\n",
       "      <th>1</th>\n",
       "      <td>0.02731</td>\n",
       "      <td>0.0</td>\n",
       "      <td>7.07</td>\n",
       "      <td>0.469</td>\n",
       "      <td>6.421</td>\n",
       "      <td>78.9</td>\n",
       "      <td>4.9671</td>\n",
       "      <td>2</td>\n",
       "      <td>242</td>\n",
       "      <td>17.8</td>\n",
       "      <td>396.90</td>\n",
       "      <td>9.14</td>\n",
       "      <td>21.6</td>\n",
       "    </tr>\n",
       "    <tr>\n",
       "      <th>2</th>\n",
       "      <td>0.02729</td>\n",
       "      <td>0.0</td>\n",
       "      <td>7.07</td>\n",
       "      <td>0.469</td>\n",
       "      <td>7.185</td>\n",
       "      <td>61.1</td>\n",
       "      <td>4.9671</td>\n",
       "      <td>2</td>\n",
       "      <td>242</td>\n",
       "      <td>17.8</td>\n",
       "      <td>392.83</td>\n",
       "      <td>4.03</td>\n",
       "      <td>34.7</td>\n",
       "    </tr>\n",
       "    <tr>\n",
       "      <th>3</th>\n",
       "      <td>0.03237</td>\n",
       "      <td>0.0</td>\n",
       "      <td>2.18</td>\n",
       "      <td>0.458</td>\n",
       "      <td>6.998</td>\n",
       "      <td>45.8</td>\n",
       "      <td>6.0622</td>\n",
       "      <td>3</td>\n",
       "      <td>222</td>\n",
       "      <td>18.7</td>\n",
       "      <td>394.63</td>\n",
       "      <td>2.94</td>\n",
       "      <td>33.4</td>\n",
       "    </tr>\n",
       "    <tr>\n",
       "      <th>4</th>\n",
       "      <td>0.06905</td>\n",
       "      <td>0.0</td>\n",
       "      <td>2.18</td>\n",
       "      <td>0.458</td>\n",
       "      <td>7.147</td>\n",
       "      <td>54.2</td>\n",
       "      <td>6.0622</td>\n",
       "      <td>3</td>\n",
       "      <td>222</td>\n",
       "      <td>18.7</td>\n",
       "      <td>396.90</td>\n",
       "      <td>5.33</td>\n",
       "      <td>36.2</td>\n",
       "    </tr>\n",
       "  </tbody>\n",
       "</table>\n",
       "</div>"
      ],
      "text/plain": [
       "      crim    zn  indus    nox     rm   age     dis  rad  tax  ptratio  \\\n",
       "0  0.00632  18.0   2.31  0.538  6.575  65.2  4.0900    1  296     15.3   \n",
       "1  0.02731   0.0   7.07  0.469  6.421  78.9  4.9671    2  242     17.8   \n",
       "2  0.02729   0.0   7.07  0.469  7.185  61.1  4.9671    2  242     17.8   \n",
       "3  0.03237   0.0   2.18  0.458  6.998  45.8  6.0622    3  222     18.7   \n",
       "4  0.06905   0.0   2.18  0.458  7.147  54.2  6.0622    3  222     18.7   \n",
       "\n",
       "        b  lstat  medv  \n",
       "0  396.90   4.98  24.0  \n",
       "1  396.90   9.14  21.6  \n",
       "2  392.83   4.03  34.7  \n",
       "3  394.63   2.94  33.4  \n",
       "4  396.90   5.33  36.2  "
      ]
     },
     "execution_count": 65,
     "metadata": {},
     "output_type": "execute_result"
    }
   ],
   "source": [
    "df2.head()"
   ]
  },
  {
   "cell_type": "markdown",
   "metadata": {},
   "source": [
    "It looks like standardization works :)"
   ]
  },
  {
   "cell_type": "markdown",
   "metadata": {},
   "source": [
    "Second method to standardise data is the following:"
   ]
  },
  {
   "cell_type": "code",
   "execution_count": 66,
   "metadata": {},
   "outputs": [],
   "source": [
    "#df2 = (df2 - df2.mean())/df2.std() #standaryzacja danych"
   ]
  },
  {
   "cell_type": "markdown",
   "metadata": {},
   "source": [
    "Third method:"
   ]
  },
  {
   "cell_type": "code",
   "execution_count": 67,
   "metadata": {},
   "outputs": [],
   "source": [
    "# from sklearn.preprocessing import MinMaxScaler\n",
    "# MinMaxScaler()"
   ]
  },
  {
   "cell_type": "markdown",
   "metadata": {},
   "source": [
    "<u> **Assignment 1**</u>\n",
    "Divide the data into the training set and the test in the ratio 0.75 / 0.25.\n"
   ]
  },
  {
   "cell_type": "code",
   "execution_count": 68,
   "metadata": {},
   "outputs": [
    {
     "data": {
      "text/html": [
       "<div>\n",
       "<style scoped>\n",
       "    .dataframe tbody tr th:only-of-type {\n",
       "        vertical-align: middle;\n",
       "    }\n",
       "\n",
       "    .dataframe tbody tr th {\n",
       "        vertical-align: top;\n",
       "    }\n",
       "\n",
       "    .dataframe thead th {\n",
       "        text-align: right;\n",
       "    }\n",
       "</style>\n",
       "<table border=\"1\" class=\"dataframe\">\n",
       "  <thead>\n",
       "    <tr style=\"text-align: right;\">\n",
       "      <th></th>\n",
       "      <th>crim</th>\n",
       "      <th>zn</th>\n",
       "      <th>indus</th>\n",
       "      <th>nox</th>\n",
       "      <th>rm</th>\n",
       "      <th>age</th>\n",
       "      <th>dis</th>\n",
       "      <th>rad</th>\n",
       "      <th>tax</th>\n",
       "      <th>ptratio</th>\n",
       "      <th>b</th>\n",
       "      <th>lstat</th>\n",
       "    </tr>\n",
       "  </thead>\n",
       "  <tbody>\n",
       "    <tr>\n",
       "      <th>388</th>\n",
       "      <td>1.247542</td>\n",
       "      <td>-0.487722</td>\n",
       "      <td>1.015999</td>\n",
       "      <td>1.255192</td>\n",
       "      <td>-2.001125</td>\n",
       "      <td>1.117494</td>\n",
       "      <td>-1.048447</td>\n",
       "      <td>1.661245</td>\n",
       "      <td>1.530926</td>\n",
       "      <td>0.806576</td>\n",
       "      <td>0.178127</td>\n",
       "      <td>2.518494</td>\n",
       "    </tr>\n",
       "    <tr>\n",
       "      <th>156</th>\n",
       "      <td>-0.135789</td>\n",
       "      <td>-0.487722</td>\n",
       "      <td>1.231945</td>\n",
       "      <td>2.732346</td>\n",
       "      <td>-1.442658</td>\n",
       "      <td>0.904131</td>\n",
       "      <td>-0.978615</td>\n",
       "      <td>-0.523001</td>\n",
       "      <td>-0.031105</td>\n",
       "      <td>-1.736418</td>\n",
       "      <td>-2.938931</td>\n",
       "      <td>0.488777</td>\n",
       "    </tr>\n",
       "    <tr>\n",
       "      <th>53</th>\n",
       "      <td>-0.414721</td>\n",
       "      <td>0.413589</td>\n",
       "      <td>-0.802031</td>\n",
       "      <td>-0.999412</td>\n",
       "      <td>-0.408356</td>\n",
       "      <td>-1.677566</td>\n",
       "      <td>1.435452</td>\n",
       "      <td>-0.637962</td>\n",
       "      <td>-0.981390</td>\n",
       "      <td>-0.765457</td>\n",
       "      <td>0.441052</td>\n",
       "      <td>-0.591963</td>\n",
       "    </tr>\n",
       "    <tr>\n",
       "      <th>311</th>\n",
       "      <td>-0.328535</td>\n",
       "      <td>-0.487722</td>\n",
       "      <td>-0.180458</td>\n",
       "      <td>-0.092387</td>\n",
       "      <td>-0.231698</td>\n",
       "      <td>-0.560965</td>\n",
       "      <td>-0.548929</td>\n",
       "      <td>-0.637962</td>\n",
       "      <td>-0.619094</td>\n",
       "      <td>-0.025677</td>\n",
       "      <td>0.441052</td>\n",
       "      <td>-0.935389</td>\n",
       "    </tr>\n",
       "    <tr>\n",
       "      <th>189</th>\n",
       "      <td>-0.410777</td>\n",
       "      <td>1.443658</td>\n",
       "      <td>-1.123032</td>\n",
       "      <td>-1.016689</td>\n",
       "      <td>1.282714</td>\n",
       "      <td>-1.055256</td>\n",
       "      <td>0.366822</td>\n",
       "      <td>-0.523001</td>\n",
       "      <td>-0.060801</td>\n",
       "      <td>-1.505237</td>\n",
       "      <td>0.441052</td>\n",
       "      <td>-1.018091</td>\n",
       "    </tr>\n",
       "  </tbody>\n",
       "</table>\n",
       "</div>"
      ],
      "text/plain": [
       "         crim        zn     indus       nox        rm       age       dis  \\\n",
       "388  1.247542 -0.487722  1.015999  1.255192 -2.001125  1.117494 -1.048447   \n",
       "156 -0.135789 -0.487722  1.231945  2.732346 -1.442658  0.904131 -0.978615   \n",
       "53  -0.414721  0.413589 -0.802031 -0.999412 -0.408356 -1.677566  1.435452   \n",
       "311 -0.328535 -0.487722 -0.180458 -0.092387 -0.231698 -0.560965 -0.548929   \n",
       "189 -0.410777  1.443658 -1.123032 -1.016689  1.282714 -1.055256  0.366822   \n",
       "\n",
       "          rad       tax   ptratio         b     lstat  \n",
       "388  1.661245  1.530926  0.806576  0.178127  2.518494  \n",
       "156 -0.523001 -0.031105 -1.736418 -2.938931  0.488777  \n",
       "53  -0.637962 -0.981390 -0.765457  0.441052 -0.591963  \n",
       "311 -0.637962 -0.619094 -0.025677  0.441052 -0.935389  \n",
       "189 -0.523001 -0.060801 -1.505237  0.441052 -1.018091  "
      ]
     },
     "execution_count": 68,
     "metadata": {},
     "output_type": "execute_result"
    }
   ],
   "source": [
    "X = df.drop('medv', axis=1)\n",
    "y = df['medv']\n",
    "X_train, X_test, y_train, y_test = train_test_split(X, y, test_size=0.25, random_state=101)\n",
    "X_train.head()"
   ]
  },
  {
   "cell_type": "code",
   "execution_count": 69,
   "metadata": {},
   "outputs": [
    {
     "data": {
      "text/plain": [
       "388    10.2\n",
       "156    13.1\n",
       "53     23.4\n",
       "311    22.1\n",
       "189    34.9\n",
       "Name: medv, dtype: float64"
      ]
     },
     "execution_count": 69,
     "metadata": {},
     "output_type": "execute_result"
    }
   ],
   "source": [
    "y_train.head()"
   ]
  },
  {
   "cell_type": "markdown",
   "metadata": {},
   "source": [
    "<u>**Assignment 3**</u>\n",
    "Show the correlation matrix for all data columns in the form of a heatmap and data frame."
   ]
  },
  {
   "cell_type": "code",
   "execution_count": 70,
   "metadata": {},
   "outputs": [
    {
     "data": {
      "text/html": [
       "<div>\n",
       "<style scoped>\n",
       "    .dataframe tbody tr th:only-of-type {\n",
       "        vertical-align: middle;\n",
       "    }\n",
       "\n",
       "    .dataframe tbody tr th {\n",
       "        vertical-align: top;\n",
       "    }\n",
       "\n",
       "    .dataframe thead th {\n",
       "        text-align: right;\n",
       "    }\n",
       "</style>\n",
       "<table border=\"1\" class=\"dataframe\">\n",
       "  <thead>\n",
       "    <tr style=\"text-align: right;\">\n",
       "      <th></th>\n",
       "      <th>crim</th>\n",
       "      <th>zn</th>\n",
       "      <th>indus</th>\n",
       "      <th>nox</th>\n",
       "      <th>rm</th>\n",
       "      <th>age</th>\n",
       "      <th>dis</th>\n",
       "      <th>rad</th>\n",
       "      <th>tax</th>\n",
       "      <th>ptratio</th>\n",
       "      <th>b</th>\n",
       "      <th>lstat</th>\n",
       "      <th>medv</th>\n",
       "    </tr>\n",
       "  </thead>\n",
       "  <tbody>\n",
       "    <tr>\n",
       "      <th>crim</th>\n",
       "      <td>1.000000</td>\n",
       "      <td>-0.200469</td>\n",
       "      <td>0.406583</td>\n",
       "      <td>0.420972</td>\n",
       "      <td>-0.219247</td>\n",
       "      <td>0.352734</td>\n",
       "      <td>-0.379670</td>\n",
       "      <td>0.625505</td>\n",
       "      <td>0.582764</td>\n",
       "      <td>0.289946</td>\n",
       "      <td>-0.385064</td>\n",
       "      <td>0.455621</td>\n",
       "      <td>-0.388305</td>\n",
       "    </tr>\n",
       "    <tr>\n",
       "      <th>zn</th>\n",
       "      <td>-0.200469</td>\n",
       "      <td>1.000000</td>\n",
       "      <td>-0.533828</td>\n",
       "      <td>-0.516604</td>\n",
       "      <td>0.311991</td>\n",
       "      <td>-0.569537</td>\n",
       "      <td>0.664408</td>\n",
       "      <td>-0.311948</td>\n",
       "      <td>-0.314563</td>\n",
       "      <td>-0.391679</td>\n",
       "      <td>0.175520</td>\n",
       "      <td>-0.412995</td>\n",
       "      <td>0.360445</td>\n",
       "    </tr>\n",
       "    <tr>\n",
       "      <th>indus</th>\n",
       "      <td>0.406583</td>\n",
       "      <td>-0.533828</td>\n",
       "      <td>1.000000</td>\n",
       "      <td>0.763651</td>\n",
       "      <td>-0.391676</td>\n",
       "      <td>0.644779</td>\n",
       "      <td>-0.708027</td>\n",
       "      <td>0.595129</td>\n",
       "      <td>0.720760</td>\n",
       "      <td>0.383248</td>\n",
       "      <td>-0.356977</td>\n",
       "      <td>0.603800</td>\n",
       "      <td>-0.483725</td>\n",
       "    </tr>\n",
       "    <tr>\n",
       "      <th>nox</th>\n",
       "      <td>0.420972</td>\n",
       "      <td>-0.516604</td>\n",
       "      <td>0.763651</td>\n",
       "      <td>1.000000</td>\n",
       "      <td>-0.302188</td>\n",
       "      <td>0.731470</td>\n",
       "      <td>-0.769230</td>\n",
       "      <td>0.611441</td>\n",
       "      <td>0.668023</td>\n",
       "      <td>0.188933</td>\n",
       "      <td>-0.380051</td>\n",
       "      <td>0.590879</td>\n",
       "      <td>-0.427321</td>\n",
       "    </tr>\n",
       "    <tr>\n",
       "      <th>rm</th>\n",
       "      <td>-0.219247</td>\n",
       "      <td>0.311991</td>\n",
       "      <td>-0.391676</td>\n",
       "      <td>-0.302188</td>\n",
       "      <td>1.000000</td>\n",
       "      <td>-0.240265</td>\n",
       "      <td>0.205246</td>\n",
       "      <td>-0.209847</td>\n",
       "      <td>-0.292048</td>\n",
       "      <td>-0.355501</td>\n",
       "      <td>0.128069</td>\n",
       "      <td>-0.613808</td>\n",
       "      <td>0.695360</td>\n",
       "    </tr>\n",
       "    <tr>\n",
       "      <th>age</th>\n",
       "      <td>0.352734</td>\n",
       "      <td>-0.569537</td>\n",
       "      <td>0.644779</td>\n",
       "      <td>0.731470</td>\n",
       "      <td>-0.240265</td>\n",
       "      <td>1.000000</td>\n",
       "      <td>-0.747881</td>\n",
       "      <td>0.456022</td>\n",
       "      <td>0.506456</td>\n",
       "      <td>0.261515</td>\n",
       "      <td>-0.273534</td>\n",
       "      <td>0.602339</td>\n",
       "      <td>-0.376955</td>\n",
       "    </tr>\n",
       "    <tr>\n",
       "      <th>dis</th>\n",
       "      <td>-0.379670</td>\n",
       "      <td>0.664408</td>\n",
       "      <td>-0.708027</td>\n",
       "      <td>-0.769230</td>\n",
       "      <td>0.205246</td>\n",
       "      <td>-0.747881</td>\n",
       "      <td>1.000000</td>\n",
       "      <td>-0.494588</td>\n",
       "      <td>-0.534432</td>\n",
       "      <td>-0.232471</td>\n",
       "      <td>0.291512</td>\n",
       "      <td>-0.496996</td>\n",
       "      <td>0.249929</td>\n",
       "    </tr>\n",
       "    <tr>\n",
       "      <th>rad</th>\n",
       "      <td>0.625505</td>\n",
       "      <td>-0.311948</td>\n",
       "      <td>0.595129</td>\n",
       "      <td>0.611441</td>\n",
       "      <td>-0.209847</td>\n",
       "      <td>0.456022</td>\n",
       "      <td>-0.494588</td>\n",
       "      <td>1.000000</td>\n",
       "      <td>0.910228</td>\n",
       "      <td>0.464741</td>\n",
       "      <td>-0.444413</td>\n",
       "      <td>0.488676</td>\n",
       "      <td>-0.381626</td>\n",
       "    </tr>\n",
       "    <tr>\n",
       "      <th>tax</th>\n",
       "      <td>0.582764</td>\n",
       "      <td>-0.314563</td>\n",
       "      <td>0.720760</td>\n",
       "      <td>0.668023</td>\n",
       "      <td>-0.292048</td>\n",
       "      <td>0.506456</td>\n",
       "      <td>-0.534432</td>\n",
       "      <td>0.910228</td>\n",
       "      <td>1.000000</td>\n",
       "      <td>0.460853</td>\n",
       "      <td>-0.441808</td>\n",
       "      <td>0.543993</td>\n",
       "      <td>-0.468536</td>\n",
       "    </tr>\n",
       "    <tr>\n",
       "      <th>ptratio</th>\n",
       "      <td>0.289946</td>\n",
       "      <td>-0.391679</td>\n",
       "      <td>0.383248</td>\n",
       "      <td>0.188933</td>\n",
       "      <td>-0.355501</td>\n",
       "      <td>0.261515</td>\n",
       "      <td>-0.232471</td>\n",
       "      <td>0.464741</td>\n",
       "      <td>0.460853</td>\n",
       "      <td>1.000000</td>\n",
       "      <td>-0.177383</td>\n",
       "      <td>0.374044</td>\n",
       "      <td>-0.507787</td>\n",
       "    </tr>\n",
       "    <tr>\n",
       "      <th>b</th>\n",
       "      <td>-0.385064</td>\n",
       "      <td>0.175520</td>\n",
       "      <td>-0.356977</td>\n",
       "      <td>-0.380051</td>\n",
       "      <td>0.128069</td>\n",
       "      <td>-0.273534</td>\n",
       "      <td>0.291512</td>\n",
       "      <td>-0.444413</td>\n",
       "      <td>-0.441808</td>\n",
       "      <td>-0.177383</td>\n",
       "      <td>1.000000</td>\n",
       "      <td>-0.366087</td>\n",
       "      <td>0.333461</td>\n",
       "    </tr>\n",
       "    <tr>\n",
       "      <th>lstat</th>\n",
       "      <td>0.455621</td>\n",
       "      <td>-0.412995</td>\n",
       "      <td>0.603800</td>\n",
       "      <td>0.590879</td>\n",
       "      <td>-0.613808</td>\n",
       "      <td>0.602339</td>\n",
       "      <td>-0.496996</td>\n",
       "      <td>0.488676</td>\n",
       "      <td>0.543993</td>\n",
       "      <td>0.374044</td>\n",
       "      <td>-0.366087</td>\n",
       "      <td>1.000000</td>\n",
       "      <td>-0.737663</td>\n",
       "    </tr>\n",
       "    <tr>\n",
       "      <th>medv</th>\n",
       "      <td>-0.388305</td>\n",
       "      <td>0.360445</td>\n",
       "      <td>-0.483725</td>\n",
       "      <td>-0.427321</td>\n",
       "      <td>0.695360</td>\n",
       "      <td>-0.376955</td>\n",
       "      <td>0.249929</td>\n",
       "      <td>-0.381626</td>\n",
       "      <td>-0.468536</td>\n",
       "      <td>-0.507787</td>\n",
       "      <td>0.333461</td>\n",
       "      <td>-0.737663</td>\n",
       "      <td>1.000000</td>\n",
       "    </tr>\n",
       "  </tbody>\n",
       "</table>\n",
       "</div>"
      ],
      "text/plain": [
       "             crim        zn     indus       nox        rm       age       dis  \\\n",
       "crim     1.000000 -0.200469  0.406583  0.420972 -0.219247  0.352734 -0.379670   \n",
       "zn      -0.200469  1.000000 -0.533828 -0.516604  0.311991 -0.569537  0.664408   \n",
       "indus    0.406583 -0.533828  1.000000  0.763651 -0.391676  0.644779 -0.708027   \n",
       "nox      0.420972 -0.516604  0.763651  1.000000 -0.302188  0.731470 -0.769230   \n",
       "rm      -0.219247  0.311991 -0.391676 -0.302188  1.000000 -0.240265  0.205246   \n",
       "age      0.352734 -0.569537  0.644779  0.731470 -0.240265  1.000000 -0.747881   \n",
       "dis     -0.379670  0.664408 -0.708027 -0.769230  0.205246 -0.747881  1.000000   \n",
       "rad      0.625505 -0.311948  0.595129  0.611441 -0.209847  0.456022 -0.494588   \n",
       "tax      0.582764 -0.314563  0.720760  0.668023 -0.292048  0.506456 -0.534432   \n",
       "ptratio  0.289946 -0.391679  0.383248  0.188933 -0.355501  0.261515 -0.232471   \n",
       "b       -0.385064  0.175520 -0.356977 -0.380051  0.128069 -0.273534  0.291512   \n",
       "lstat    0.455621 -0.412995  0.603800  0.590879 -0.613808  0.602339 -0.496996   \n",
       "medv    -0.388305  0.360445 -0.483725 -0.427321  0.695360 -0.376955  0.249929   \n",
       "\n",
       "              rad       tax   ptratio         b     lstat      medv  \n",
       "crim     0.625505  0.582764  0.289946 -0.385064  0.455621 -0.388305  \n",
       "zn      -0.311948 -0.314563 -0.391679  0.175520 -0.412995  0.360445  \n",
       "indus    0.595129  0.720760  0.383248 -0.356977  0.603800 -0.483725  \n",
       "nox      0.611441  0.668023  0.188933 -0.380051  0.590879 -0.427321  \n",
       "rm      -0.209847 -0.292048 -0.355501  0.128069 -0.613808  0.695360  \n",
       "age      0.456022  0.506456  0.261515 -0.273534  0.602339 -0.376955  \n",
       "dis     -0.494588 -0.534432 -0.232471  0.291512 -0.496996  0.249929  \n",
       "rad      1.000000  0.910228  0.464741 -0.444413  0.488676 -0.381626  \n",
       "tax      0.910228  1.000000  0.460853 -0.441808  0.543993 -0.468536  \n",
       "ptratio  0.464741  0.460853  1.000000 -0.177383  0.374044 -0.507787  \n",
       "b       -0.444413 -0.441808 -0.177383  1.000000 -0.366087  0.333461  \n",
       "lstat    0.488676  0.543993  0.374044 -0.366087  1.000000 -0.737663  \n",
       "medv    -0.381626 -0.468536 -0.507787  0.333461 -0.737663  1.000000  "
      ]
     },
     "execution_count": 70,
     "metadata": {},
     "output_type": "execute_result"
    }
   ],
   "source": [
    "corrMatrix = df.corr()\n",
    "corrMatrix"
   ]
  },
  {
   "cell_type": "code",
   "execution_count": 71,
   "metadata": {},
   "outputs": [
    {
     "data": {
      "text/plain": [
       "13"
      ]
     },
     "execution_count": 71,
     "metadata": {},
     "output_type": "execute_result"
    }
   ],
   "source": [
    "len(df.keys())"
   ]
  },
  {
   "cell_type": "code",
   "execution_count": 72,
   "metadata": {},
   "outputs": [
    {
     "data": {
      "text/plain": [
       "Text(0.5, 1.0, 'Correlation heatmap')"
      ]
     },
     "execution_count": 72,
     "metadata": {},
     "output_type": "execute_result"
    },
    {
     "data": {
      "image/png": "[encoded data removed]",
      "text/plain": [
       "<Figure size 864x432 with 2 Axes>"
      ]
     },
     "metadata": {},
     "output_type": "display_data"
    }
   ],
   "source": [
    "sns.set_theme()\n",
    "plt.figure(figsize=(12,6))\n",
    "sns.heatmap(df.corr(),cmap='viridis',annot=True)\n",
    "plt.title('Correlation heatmap', fontdict={'fontsize':15})"
   ]
  },
  {
   "cell_type": "markdown",
   "metadata": {},
   "source": [
    "### 6. Assignments _ Modelling\n",
    "Objective variable: `MEDV`\n",
    "\n",
    "<u>**Assignment 1**</u>\n",
    "Perform a regression using a linear model. Indicate the variables for which the value of the linear parameter was the highest."
   ]
  },
  {
   "cell_type": "code",
   "execution_count": 73,
   "metadata": {},
   "outputs": [
    {
     "name": "stdout",
     "output_type": "stream",
     "text": [
      "MSE:  29.8319114934354\n",
      "RMSE:  5.461859710156917\n",
      "R^2:  0.7148742369596652\n"
     ]
    }
   ],
   "source": [
    "lr = LinearRegression()\n",
    "lr.fit(X_train,y_train)\n",
    "y_pred = lr.predict(X_test)\n",
    "\n",
    "print('MSE: ', mean_squared_error(y_test, y_pred))\n",
    "print('RMSE: ', mean_squared_error(y_test, y_pred)**0.5)\n",
    "print('R^2: ', lr.score(X_test, y_test))"
   ]
  },
  {
   "cell_type": "markdown",
   "metadata": {},
   "source": [
    "**`intercept_`** = Independent term in the linear model"
   ]
  },
  {
   "cell_type": "code",
   "execution_count": 74,
   "metadata": {},
   "outputs": [
    {
     "name": "stdout",
     "output_type": "stream",
     "text": [
      "22.408361449086048\n"
     ]
    }
   ],
   "source": [
    "print(lr.intercept_) "
   ]
  },
  {
   "cell_type": "markdown",
   "metadata": {},
   "source": [
    "**`coef_`** = Estimated coefficients for the linear regression problem. If multiple targets are passed during the fit (y 2D), this is a 2D array of shape (n_targets, n_features), while if only one target is passed, this is a 1D array of length n_features."
   ]
  },
  {
   "cell_type": "code",
   "execution_count": 75,
   "metadata": {},
   "outputs": [
    {
     "name": "stdout",
     "output_type": "stream",
     "text": [
      "[-0.85566634  1.11707255  0.2485377  -1.99576766  2.52143842  0.1638579\n",
      " -3.1750488   2.49792357 -1.89009613 -2.12349321  0.72942183 -4.17959595]\n"
     ]
    }
   ],
   "source": [
    "print(lr.coef_)"
   ]
  },
  {
   "cell_type": "markdown",
   "metadata": {},
   "source": [
    "DataFrame with coefficients (współczynniki regresji liniowej)"
   ]
  },
  {
   "cell_type": "code",
   "execution_count": 76,
   "metadata": {},
   "outputs": [
    {
     "data": {
      "text/html": [
       "<div>\n",
       "<style scoped>\n",
       "    .dataframe tbody tr th:only-of-type {\n",
       "        vertical-align: middle;\n",
       "    }\n",
       "\n",
       "    .dataframe tbody tr th {\n",
       "        vertical-align: top;\n",
       "    }\n",
       "\n",
       "    .dataframe thead th {\n",
       "        text-align: right;\n",
       "    }\n",
       "</style>\n",
       "<table border=\"1\" class=\"dataframe\">\n",
       "  <thead>\n",
       "    <tr style=\"text-align: right;\">\n",
       "      <th></th>\n",
       "      <th>Coefficient</th>\n",
       "    </tr>\n",
       "  </thead>\n",
       "  <tbody>\n",
       "    <tr>\n",
       "      <th>crim</th>\n",
       "      <td>-0.855666</td>\n",
       "    </tr>\n",
       "    <tr>\n",
       "      <th>zn</th>\n",
       "      <td>1.117073</td>\n",
       "    </tr>\n",
       "    <tr>\n",
       "      <th>indus</th>\n",
       "      <td>0.248538</td>\n",
       "    </tr>\n",
       "    <tr>\n",
       "      <th>nox</th>\n",
       "      <td>-1.995768</td>\n",
       "    </tr>\n",
       "    <tr>\n",
       "      <th>rm</th>\n",
       "      <td>2.521438</td>\n",
       "    </tr>\n",
       "    <tr>\n",
       "      <th>age</th>\n",
       "      <td>0.163858</td>\n",
       "    </tr>\n",
       "    <tr>\n",
       "      <th>dis</th>\n",
       "      <td>-3.175049</td>\n",
       "    </tr>\n",
       "    <tr>\n",
       "      <th>rad</th>\n",
       "      <td>2.497924</td>\n",
       "    </tr>\n",
       "    <tr>\n",
       "      <th>tax</th>\n",
       "      <td>-1.890096</td>\n",
       "    </tr>\n",
       "    <tr>\n",
       "      <th>ptratio</th>\n",
       "      <td>-2.123493</td>\n",
       "    </tr>\n",
       "    <tr>\n",
       "      <th>b</th>\n",
       "      <td>0.729422</td>\n",
       "    </tr>\n",
       "    <tr>\n",
       "      <th>lstat</th>\n",
       "      <td>-4.179596</td>\n",
       "    </tr>\n",
       "  </tbody>\n",
       "</table>\n",
       "</div>"
      ],
      "text/plain": [
       "         Coefficient\n",
       "crim       -0.855666\n",
       "zn          1.117073\n",
       "indus       0.248538\n",
       "nox        -1.995768\n",
       "rm          2.521438\n",
       "age         0.163858\n",
       "dis        -3.175049\n",
       "rad         2.497924\n",
       "tax        -1.890096\n",
       "ptratio    -2.123493\n",
       "b           0.729422\n",
       "lstat      -4.179596"
      ]
     },
     "execution_count": 76,
     "metadata": {},
     "output_type": "execute_result"
    }
   ],
   "source": [
    "coeff_df = pd.DataFrame(lr.coef_,X.columns,columns=['Coefficient'])\n",
    "coeff_df"
   ]
  },
  {
   "cell_type": "markdown",
   "metadata": {},
   "source": [
    "Top 3 variables for which the value of the linear parameter was the highest."
   ]
  },
  {
   "cell_type": "code",
   "execution_count": 77,
   "metadata": {},
   "outputs": [
    {
     "data": {
      "text/html": [
       "<div>\n",
       "<style scoped>\n",
       "    .dataframe tbody tr th:only-of-type {\n",
       "        vertical-align: middle;\n",
       "    }\n",
       "\n",
       "    .dataframe tbody tr th {\n",
       "        vertical-align: top;\n",
       "    }\n",
       "\n",
       "    .dataframe thead th {\n",
       "        text-align: right;\n",
       "    }\n",
       "</style>\n",
       "<table border=\"1\" class=\"dataframe\">\n",
       "  <thead>\n",
       "    <tr style=\"text-align: right;\">\n",
       "      <th></th>\n",
       "      <th>Coefficient</th>\n",
       "    </tr>\n",
       "  </thead>\n",
       "  <tbody>\n",
       "    <tr>\n",
       "      <th>rm</th>\n",
       "      <td>2.521438</td>\n",
       "    </tr>\n",
       "    <tr>\n",
       "      <th>rad</th>\n",
       "      <td>2.497924</td>\n",
       "    </tr>\n",
       "    <tr>\n",
       "      <th>zn</th>\n",
       "      <td>1.117073</td>\n",
       "    </tr>\n",
       "  </tbody>\n",
       "</table>\n",
       "</div>"
      ],
      "text/plain": [
       "     Coefficient\n",
       "rm      2.521438\n",
       "rad     2.497924\n",
       "zn      1.117073"
      ]
     },
     "execution_count": 77,
     "metadata": {},
     "output_type": "execute_result"
    }
   ],
   "source": [
    "coeff_df.nlargest(3,'Coefficient')"
   ]
  },
  {
   "cell_type": "markdown",
   "metadata": {},
   "source": [
    "<u>**Assignment 2**</u>\n",
    "Perform a regression using a 3-layer neural network (three neurons in each layer)."
   ]
  },
  {
   "cell_type": "code",
   "execution_count": 78,
   "metadata": {},
   "outputs": [
    {
     "name": "stdout",
     "output_type": "stream",
     "text": [
      "Epoch 1/100\n",
      "12/12 [==============================] - 1s 18ms/step - loss: 570.3780 - mse: 570.3780 - val_loss: 667.7598 - val_mse: 667.7598\n",
      "Epoch 2/100\n",
      "12/12 [==============================] - 0s 4ms/step - loss: 568.9211 - mse: 568.9211 - val_loss: 666.5579 - val_mse: 666.5579\n",
      "Epoch 3/100\n",
      "12/12 [==============================] - 0s 5ms/step - loss: 567.7370 - mse: 567.7370 - val_loss: 665.5157 - val_mse: 665.5157\n",
      "Epoch 4/100\n",
      "12/12 [==============================] - 0s 5ms/step - loss: 566.7384 - mse: 566.7384 - val_loss: 664.5738 - val_mse: 664.5738\n",
      "Epoch 5/100\n",
      "12/12 [==============================] - 0s 6ms/step - loss: 565.8582 - mse: 565.8582 - val_loss: 663.7078 - val_mse: 663.7078\n",
      "Epoch 6/100\n",
      "12/12 [==============================] - 0s 6ms/step - loss: 565.0433 - mse: 565.0433 - val_loss: 662.8901 - val_mse: 662.8901\n",
      "Epoch 7/100\n",
      "12/12 [==============================] - 0s 6ms/step - loss: 564.2665 - mse: 564.2665 - val_loss: 662.0837 - val_mse: 662.0837\n",
      "Epoch 8/100\n",
      "12/12 [==============================] - 0s 6ms/step - loss: 563.4918 - mse: 563.4918 - val_loss: 661.2700 - val_mse: 661.2700\n",
      "Epoch 9/100\n",
      "12/12 [==============================] - 0s 6ms/step - loss: 562.6999 - mse: 562.6999 - val_loss: 660.4524 - val_mse: 660.4524\n",
      "Epoch 10/100\n",
      "12/12 [==============================] - 0s 6ms/step - loss: 561.9089 - mse: 561.9089 - val_loss: 659.6016 - val_mse: 659.6016\n",
      "Epoch 11/100\n",
      "12/12 [==============================] - 0s 6ms/step - loss: 561.0798 - mse: 561.0798 - val_loss: 658.7290 - val_mse: 658.7290\n",
      "Epoch 12/100\n",
      "12/12 [==============================] - 0s 4ms/step - loss: 560.2200 - mse: 560.2200 - val_loss: 657.8336 - val_mse: 657.8336\n",
      "Epoch 13/100\n",
      "12/12 [==============================] - 0s 5ms/step - loss: 559.3574 - mse: 559.3574 - val_loss: 656.8858 - val_mse: 656.8858\n",
      "Epoch 14/100\n",
      "12/12 [==============================] - 0s 5ms/step - loss: 558.4445 - mse: 558.4445 - val_loss: 655.9057 - val_mse: 655.9057\n",
      "Epoch 15/100\n",
      "12/12 [==============================] - 0s 6ms/step - loss: 557.4918 - mse: 557.4918 - val_loss: 654.8925 - val_mse: 654.8925\n",
      "Epoch 16/100\n",
      "12/12 [==============================] - 0s 6ms/step - loss: 556.5258 - mse: 556.5258 - val_loss: 653.8237 - val_mse: 653.8237\n",
      "Epoch 17/100\n",
      "12/12 [==============================] - 0s 6ms/step - loss: 555.4969 - mse: 555.4969 - val_loss: 652.7224 - val_mse: 652.7224\n",
      "Epoch 18/100\n",
      "12/12 [==============================] - 0s 6ms/step - loss: 554.4362 - mse: 554.4362 - val_loss: 651.5720 - val_mse: 651.5720\n",
      "Epoch 19/100\n",
      "12/12 [==============================] - 0s 6ms/step - loss: 553.3220 - mse: 553.3220 - val_loss: 650.3705 - val_mse: 650.3705\n",
      "Epoch 20/100\n",
      "12/12 [==============================] - 0s 6ms/step - loss: 552.1564 - mse: 552.1564 - val_loss: 649.1079 - val_mse: 649.1079\n",
      "Epoch 21/100\n",
      "12/12 [==============================] - 0s 6ms/step - loss: 550.9441 - mse: 550.9441 - val_loss: 647.7666 - val_mse: 647.7666\n",
      "Epoch 22/100\n",
      "12/12 [==============================] - 0s 6ms/step - loss: 549.6329 - mse: 549.6329 - val_loss: 646.3655 - val_mse: 646.3655\n",
      "Epoch 23/100\n",
      "12/12 [==============================] - 0s 6ms/step - loss: 548.2444 - mse: 548.2444 - val_loss: 644.8442 - val_mse: 644.8442\n",
      "Epoch 24/100\n",
      "12/12 [==============================] - 0s 6ms/step - loss: 546.7067 - mse: 546.7067 - val_loss: 643.2068 - val_mse: 643.2068\n",
      "Epoch 25/100\n",
      "12/12 [==============================] - 0s 6ms/step - loss: 544.9980 - mse: 544.9980 - val_loss: 641.3588 - val_mse: 641.3588\n",
      "Epoch 26/100\n",
      "12/12 [==============================] - 0s 6ms/step - loss: 542.9401 - mse: 542.9401 - val_loss: 639.2583 - val_mse: 639.2583\n",
      "Epoch 27/100\n",
      "12/12 [==============================] - 0s 6ms/step - loss: 540.3649 - mse: 540.3649 - val_loss: 636.5887 - val_mse: 636.5887\n",
      "Epoch 28/100\n",
      "12/12 [==============================] - 0s 4ms/step - loss: 537.1094 - mse: 537.1094 - val_loss: 633.2783 - val_mse: 633.2783\n",
      "Epoch 29/100\n",
      "12/12 [==============================] - 0s 5ms/step - loss: 533.1565 - mse: 533.1565 - val_loss: 629.3926 - val_mse: 629.3926\n",
      "Epoch 30/100\n",
      "12/12 [==============================] - 0s 5ms/step - loss: 528.5020 - mse: 528.5020 - val_loss: 624.7198 - val_mse: 624.7198\n",
      "Epoch 31/100\n",
      "12/12 [==============================] - 0s 5ms/step - loss: 522.7784 - mse: 522.7784 - val_loss: 619.1514 - val_mse: 619.1514\n",
      "Epoch 32/100\n",
      "12/12 [==============================] - 0s 5ms/step - loss: 515.7365 - mse: 515.7365 - val_loss: 611.8906 - val_mse: 611.8906\n",
      "Epoch 33/100\n",
      "12/12 [==============================] - 0s 5ms/step - loss: 506.9907 - mse: 506.9907 - val_loss: 601.0601 - val_mse: 601.0601\n",
      "Epoch 34/100\n",
      "12/12 [==============================] - 0s 5ms/step - loss: 495.1595 - mse: 495.1595 - val_loss: 585.2700 - val_mse: 585.2700\n",
      "Epoch 35/100\n",
      "12/12 [==============================] - 0s 6ms/step - loss: 480.7042 - mse: 480.7042 - val_loss: 568.4626 - val_mse: 568.4626\n",
      "Epoch 36/100\n",
      "12/12 [==============================] - 0s 6ms/step - loss: 465.3370 - mse: 465.3370 - val_loss: 550.9332 - val_mse: 550.9332\n",
      "Epoch 37/100\n",
      "12/12 [==============================] - 0s 6ms/step - loss: 448.6471 - mse: 448.6471 - val_loss: 531.8104 - val_mse: 531.8104\n",
      "Epoch 38/100\n",
      "12/12 [==============================] - 0s 6ms/step - loss: 430.5888 - mse: 430.5888 - val_loss: 511.0830 - val_mse: 511.0830\n",
      "Epoch 39/100\n",
      "12/12 [==============================] - 0s 6ms/step - loss: 411.4726 - mse: 411.4726 - val_loss: 488.9110 - val_mse: 488.9110\n",
      "Epoch 40/100\n",
      "12/12 [==============================] - 0s 6ms/step - loss: 391.2716 - mse: 391.2716 - val_loss: 465.6106 - val_mse: 465.6106\n",
      "Epoch 41/100\n",
      "12/12 [==============================] - 0s 6ms/step - loss: 370.5841 - mse: 370.5841 - val_loss: 441.1835 - val_mse: 441.1835\n",
      "Epoch 42/100\n",
      "12/12 [==============================] - 0s 6ms/step - loss: 348.8378 - mse: 348.8378 - val_loss: 416.4729 - val_mse: 416.4729\n",
      "Epoch 43/100\n",
      "12/12 [==============================] - 0s 6ms/step - loss: 327.3731 - mse: 327.3731 - val_loss: 390.7726 - val_mse: 390.7726\n",
      "Epoch 44/100\n",
      "12/12 [==============================] - 0s 6ms/step - loss: 305.5603 - mse: 305.5603 - val_loss: 364.9919 - val_mse: 364.9919\n",
      "Epoch 45/100\n",
      "12/12 [==============================] - 0s 6ms/step - loss: 283.4208 - mse: 283.4208 - val_loss: 339.9880 - val_mse: 339.9880\n",
      "Epoch 46/100\n",
      "12/12 [==============================] - 0s 6ms/step - loss: 262.3382 - mse: 262.3382 - val_loss: 314.9523 - val_mse: 314.9523\n",
      "Epoch 47/100\n",
      "12/12 [==============================] - 0s 6ms/step - loss: 241.8494 - mse: 241.8494 - val_loss: 290.6077 - val_mse: 290.6077\n",
      "Epoch 48/100\n",
      "12/12 [==============================] - 0s 6ms/step - loss: 221.7050 - mse: 221.7050 - val_loss: 267.8965 - val_mse: 267.8965\n",
      "Epoch 49/100\n",
      "12/12 [==============================] - 0s 6ms/step - loss: 203.2160 - mse: 203.2160 - val_loss: 246.3920 - val_mse: 246.3920\n",
      "Epoch 50/100\n",
      "12/12 [==============================] - 0s 6ms/step - loss: 186.0881 - mse: 186.0881 - val_loss: 226.4396 - val_mse: 226.4396\n",
      "Epoch 51/100\n",
      "12/12 [==============================] - 0s 6ms/step - loss: 170.7171 - mse: 170.7171 - val_loss: 208.0333 - val_mse: 208.0333\n",
      "Epoch 52/100\n",
      "12/12 [==============================] - 0s 6ms/step - loss: 156.3323 - mse: 156.3323 - val_loss: 192.0419 - val_mse: 192.0419\n",
      "Epoch 53/100\n",
      "12/12 [==============================] - 0s 6ms/step - loss: 143.9681 - mse: 143.9681 - val_loss: 177.9217 - val_mse: 177.9217\n",
      "Epoch 54/100\n",
      "12/12 [==============================] - 0s 6ms/step - loss: 133.5780 - mse: 133.5780 - val_loss: 165.2836 - val_mse: 165.2836\n",
      "Epoch 55/100\n",
      "12/12 [==============================] - 0s 5ms/step - loss: 124.3905 - mse: 124.3905 - val_loss: 154.5815 - val_mse: 154.5815\n",
      "Epoch 56/100\n",
      "12/12 [==============================] - 0s 4ms/step - loss: 116.4261 - mse: 116.4261 - val_loss: 145.8359 - val_mse: 145.8359\n",
      "Epoch 57/100\n",
      "12/12 [==============================] - 0s 5ms/step - loss: 110.0668 - mse: 110.0668 - val_loss: 138.2872 - val_mse: 138.2872\n",
      "Epoch 58/100\n",
      "12/12 [==============================] - 0s 6ms/step - loss: 104.6895 - mse: 104.6895 - val_loss: 131.7983 - val_mse: 131.7983\n",
      "Epoch 59/100\n"
     ]
    },
    {
     "name": "stdout",
     "output_type": "stream",
     "text": [
      "12/12 [==============================] - 0s 6ms/step - loss: 99.9003 - mse: 99.9003 - val_loss: 126.2658 - val_mse: 126.2658\n",
      "Epoch 60/100\n",
      "12/12 [==============================] - 0s 6ms/step - loss: 95.7244 - mse: 95.7244 - val_loss: 121.5937 - val_mse: 121.5937\n",
      "Epoch 61/100\n",
      "12/12 [==============================] - 0s 6ms/step - loss: 92.4468 - mse: 92.4468 - val_loss: 116.9978 - val_mse: 116.9978\n",
      "Epoch 62/100\n",
      "12/12 [==============================] - 0s 6ms/step - loss: 89.1231 - mse: 89.1231 - val_loss: 113.2445 - val_mse: 113.2445\n",
      "Epoch 63/100\n",
      "12/12 [==============================] - 0s 6ms/step - loss: 86.4392 - mse: 86.4392 - val_loss: 109.7018 - val_mse: 109.7018\n",
      "Epoch 64/100\n",
      "12/12 [==============================] - 0s 6ms/step - loss: 83.8623 - mse: 83.8623 - val_loss: 106.4748 - val_mse: 106.4748\n",
      "Epoch 65/100\n",
      "12/12 [==============================] - 0s 6ms/step - loss: 81.5307 - mse: 81.5307 - val_loss: 103.4421 - val_mse: 103.4421\n",
      "Epoch 66/100\n",
      "12/12 [==============================] - 0s 6ms/step - loss: 79.2672 - mse: 79.2672 - val_loss: 100.5798 - val_mse: 100.5798\n",
      "Epoch 67/100\n",
      "12/12 [==============================] - 0s 6ms/step - loss: 77.1720 - mse: 77.1720 - val_loss: 97.9669 - val_mse: 97.9669\n",
      "Epoch 68/100\n",
      "12/12 [==============================] - 0s 6ms/step - loss: 75.2347 - mse: 75.2347 - val_loss: 95.3189 - val_mse: 95.3189\n",
      "Epoch 69/100\n",
      "12/12 [==============================] - 0s 6ms/step - loss: 73.4642 - mse: 73.4642 - val_loss: 92.6741 - val_mse: 92.6741\n",
      "Epoch 70/100\n",
      "12/12 [==============================] - 0s 6ms/step - loss: 71.6176 - mse: 71.6176 - val_loss: 90.0653 - val_mse: 90.0653\n",
      "Epoch 71/100\n",
      "12/12 [==============================] - 0s 6ms/step - loss: 69.8336 - mse: 69.8336 - val_loss: 87.4719 - val_mse: 87.4719\n",
      "Epoch 72/100\n",
      "12/12 [==============================] - 0s 6ms/step - loss: 68.0830 - mse: 68.0830 - val_loss: 84.9339 - val_mse: 84.9339\n",
      "Epoch 73/100\n",
      "12/12 [==============================] - 0s 6ms/step - loss: 66.4202 - mse: 66.4202 - val_loss: 82.4862 - val_mse: 82.4862\n",
      "Epoch 74/100\n",
      "12/12 [==============================] - 0s 6ms/step - loss: 64.7672 - mse: 64.7672 - val_loss: 80.2093 - val_mse: 80.2093\n",
      "Epoch 75/100\n",
      "12/12 [==============================] - 0s 6ms/step - loss: 63.1396 - mse: 63.1396 - val_loss: 78.2265 - val_mse: 78.2265\n",
      "Epoch 76/100\n",
      "12/12 [==============================] - 0s 6ms/step - loss: 61.6376 - mse: 61.6376 - val_loss: 76.2556 - val_mse: 76.2556\n",
      "Epoch 77/100\n",
      "12/12 [==============================] - 0s 6ms/step - loss: 60.2181 - mse: 60.2181 - val_loss: 74.2790 - val_mse: 74.2790\n",
      "Epoch 78/100\n",
      "12/12 [==============================] - 0s 6ms/step - loss: 58.8292 - mse: 58.8292 - val_loss: 72.3167 - val_mse: 72.3167\n",
      "Epoch 79/100\n",
      "12/12 [==============================] - 0s 6ms/step - loss: 57.4765 - mse: 57.4765 - val_loss: 70.5198 - val_mse: 70.5198\n",
      "Epoch 80/100\n",
      "12/12 [==============================] - 0s 6ms/step - loss: 56.1617 - mse: 56.1617 - val_loss: 68.7849 - val_mse: 68.7849\n",
      "Epoch 81/100\n",
      "12/12 [==============================] - 0s 6ms/step - loss: 54.9205 - mse: 54.9205 - val_loss: 67.1880 - val_mse: 67.1880\n",
      "Epoch 82/100\n",
      "12/12 [==============================] - 0s 6ms/step - loss: 53.6444 - mse: 53.6444 - val_loss: 65.7486 - val_mse: 65.7486\n",
      "Epoch 83/100\n",
      "12/12 [==============================] - 0s 6ms/step - loss: 52.5767 - mse: 52.5767 - val_loss: 63.9960 - val_mse: 63.9960\n",
      "Epoch 84/100\n",
      "12/12 [==============================] - 0s 6ms/step - loss: 51.4591 - mse: 51.4591 - val_loss: 62.2450 - val_mse: 62.2450\n",
      "Epoch 85/100\n",
      "12/12 [==============================] - 0s 6ms/step - loss: 50.0985 - mse: 50.0985 - val_loss: 60.5432 - val_mse: 60.5432\n",
      "Epoch 86/100\n",
      "12/12 [==============================] - 0s 6ms/step - loss: 48.7808 - mse: 48.7808 - val_loss: 58.7765 - val_mse: 58.7765\n",
      "Epoch 87/100\n",
      "12/12 [==============================] - 0s 6ms/step - loss: 47.4728 - mse: 47.4728 - val_loss: 56.9333 - val_mse: 56.9333\n",
      "Epoch 88/100\n",
      "12/12 [==============================] - 0s 6ms/step - loss: 46.0533 - mse: 46.0533 - val_loss: 55.3344 - val_mse: 55.3344\n",
      "Epoch 89/100\n",
      "12/12 [==============================] - 0s 6ms/step - loss: 44.9652 - mse: 44.9652 - val_loss: 53.5387 - val_mse: 53.5387\n",
      "Epoch 90/100\n",
      "12/12 [==============================] - 0s 6ms/step - loss: 43.5876 - mse: 43.5876 - val_loss: 52.2290 - val_mse: 52.2290\n",
      "Epoch 91/100\n",
      "12/12 [==============================] - 0s 6ms/step - loss: 42.5914 - mse: 42.5914 - val_loss: 50.6892 - val_mse: 50.6892\n",
      "Epoch 92/100\n",
      "12/12 [==============================] - 0s 6ms/step - loss: 41.4182 - mse: 41.4182 - val_loss: 49.2691 - val_mse: 49.2691\n",
      "Epoch 93/100\n",
      "12/12 [==============================] - 0s 6ms/step - loss: 40.3057 - mse: 40.3057 - val_loss: 47.9526 - val_mse: 47.9526\n",
      "Epoch 94/100\n",
      "12/12 [==============================] - 0s 6ms/step - loss: 39.2445 - mse: 39.2445 - val_loss: 46.6810 - val_mse: 46.6810\n",
      "Epoch 95/100\n",
      "12/12 [==============================] - 0s 5ms/step - loss: 38.1266 - mse: 38.1266 - val_loss: 45.4147 - val_mse: 45.4147\n",
      "Epoch 96/100\n",
      "12/12 [==============================] - 0s 5ms/step - loss: 37.1021 - mse: 37.1021 - val_loss: 44.0163 - val_mse: 44.0163\n",
      "Epoch 97/100\n",
      "12/12 [==============================] - 0s 5ms/step - loss: 35.9546 - mse: 35.9546 - val_loss: 42.9026 - val_mse: 42.9026\n",
      "Epoch 98/100\n",
      "12/12 [==============================] - 0s 5ms/step - loss: 35.0503 - mse: 35.0503 - val_loss: 41.5896 - val_mse: 41.5896\n",
      "Epoch 99/100\n",
      "12/12 [==============================] - 0s 4ms/step - loss: 33.9131 - mse: 33.9131 - val_loss: 40.6125 - val_mse: 40.6125\n",
      "Epoch 100/100\n",
      "12/12 [==============================] - 0s 5ms/step - loss: 32.9996 - mse: 32.9996 - val_loss: 39.5430 - val_mse: 39.5430\n"
     ]
    }
   ],
   "source": [
    "model = keras.Sequential([\n",
    "    Dense(3, input_shape = (12,), activation = 'relu'),\n",
    "    Dense(3, activation = 'relu'),\n",
    "    Dense(3, activation = 'relu'),\n",
    "    Dense(1)\n",
    "])\n",
    "\n",
    "model.compile(optimizer = 'adam', loss = MeanSquaredError(), metrics = ['mse'])\n",
    "history = model.fit(X_train, y_train, validation_data = (X_test, y_test), epochs = 100, verbose = 1)"
   ]
  },
  {
   "cell_type": "code",
   "execution_count": 79,
   "metadata": {},
   "outputs": [
    {
     "data": {
      "text/plain": [
       "[<matplotlib.lines.Line2D at 0x2174efd18e0>]"
      ]
     },
     "execution_count": 79,
     "metadata": {},
     "output_type": "execute_result"
    },
    {
     "data": {
      "image/png": "[encoded data removed]",
      "text/plain": [
       "<Figure size 576x288 with 1 Axes>"
      ]
     },
     "metadata": {},
     "output_type": "display_data"
    }
   ],
   "source": [
    "plt.figure(figsize=(8,4))\n",
    "\n",
    "plt.xlabel('Epoch')\n",
    "plt.ylabel('MSE')\n",
    "plt.plot(model.history.history['loss'][:])\n",
    "plt.plot(model.history.history['val_loss'][:])"
   ]
  },
  {
   "cell_type": "markdown",
   "metadata": {},
   "source": [
    "<u>**Assignment 3**</u>\n",
    "Compare both models using the `R squared` factor."
   ]
  },
  {
   "cell_type": "code",
   "execution_count": 81,
   "metadata": {},
   "outputs": [
    {
     "name": "stdout",
     "output_type": "stream",
     "text": [
      "For linear regression model:\n",
      "MAE: 3.8577212116246646\n",
      "MSE: 29.8319114934354\n",
      "RMSE: 5.461859710156917\n",
      "R^2: 0.7148742369596652\n",
      "R^2: 0.7148742369596652\n"
     ]
    }
   ],
   "source": [
    "y_pred_lr = lr.predict(X_test)\n",
    "\n",
    "print('For linear regression model:')\n",
    "print('MAE:', metrics.mean_absolute_error(y_test, y_pred_lr))\n",
    "print('MSE:', metrics.mean_squared_error(y_test, y_pred_lr))\n",
    "print('RMSE:', np.sqrt(metrics.mean_squared_error(y_test, y_pred_lr)))\n",
    "print('R^2:', lr.score(X_test, y_test))\n",
    "print('R^2:', metrics.r2_score(y_test, y_pred_lr))"
   ]
  },
  {
   "cell_type": "code",
   "execution_count": 82,
   "metadata": {},
   "outputs": [
    {
     "name": "stdout",
     "output_type": "stream",
     "text": [
      "Dla modelu regresji z użyciem sieci neuronowej:\n",
      "MAE: 4.633591614370271\n",
      "MSE: 39.54301314869261\n",
      "RMSE: 6.288323556298023\n",
      "R^2: 0.6220580166505251\n"
     ]
    }
   ],
   "source": [
    "y_pred_tf = model.predict(X_test)\n",
    "y_pred_tf = np.ravel(y_pred_tf)\n",
    "print('Dla modelu regresji z użyciem sieci neuronowej:')\n",
    "print('MAE:', metrics.mean_absolute_error(y_test, y_pred_tf))\n",
    "print('MSE:', metrics.mean_squared_error(y_test, y_pred_tf))\n",
    "print('RMSE:', np.sqrt(metrics.mean_squared_error(y_test, y_pred_tf)))\n",
    "print('R^2:', metrics.r2_score(y_test, y_pred_tf))"
   ]
  },
  {
   "cell_type": "markdown",
   "metadata": {},
   "source": [
    "**R^2 comparison**"
   ]
  },
  {
   "cell_type": "code",
   "execution_count": 83,
   "metadata": {},
   "outputs": [
    {
     "name": "stdout",
     "output_type": "stream",
     "text": [
      "R^2 dla modelu regresji liniowej:  0.7148742369596652\n",
      "R^2 dla modelu sieci neuronowej:  0.6220580166505251\n"
     ]
    }
   ],
   "source": [
    "print('R^2 dla modelu regresji liniowej: ', metrics.r2_score(y_test, y_pred_lr))\n",
    "print('R^2 dla modelu sieci neuronowej: ', metrics.r2_score(y_test, y_pred_tf))"
   ]
  },
  {
   "cell_type": "markdown",
   "metadata": {},
   "source": [
    "### 7. Assignments _ Visualization \n",
    "<u>**Assignment 1**</u>\n",
    "Create a scatter plot that represents the relationship between the `medv` and `crim` columns. Superimpose a trend line on this chart."
   ]
  },
  {
   "cell_type": "code",
   "execution_count": 84,
   "metadata": {},
   "outputs": [
    {
     "data": {
      "text/plain": [
       "<AxesSubplot:xlabel='medv', ylabel='crim'>"
      ]
     },
     "execution_count": 84,
     "metadata": {},
     "output_type": "execute_result"
    },
    {
     "data": {
      "image/png": "[encoded data removed]",
      "text/plain": [
       "<Figure size 864x432 with 1 Axes>"
      ]
     },
     "metadata": {},
     "output_type": "display_data"
    }
   ],
   "source": [
    "plt.figure(figsize=(12,6))\n",
    "sns.regplot(x='medv', y='crim', data=df, line_kws={\"color\": \"orange\"})"
   ]
  },
  {
   "cell_type": "markdown",
   "metadata": {},
   "source": [
    "<u>**Assignment 2**</u>\n",
    "Create a `Dashboard` that will include: <br>\n",
    "&emsp; a)\tBar chart for parameters from the linear model. <br>\n",
    "&emsp; b)\tHistogram for the selected column of data. <br>\n",
    "&emsp; c)\tScatterplot for any pair of columns. <br>"
   ]
  },
  {
   "cell_type": "code",
   "execution_count": 85,
   "metadata": {},
   "outputs": [
    {
     "name": "stdout",
     "output_type": "stream",
     "text": [
      "Requirement already satisfied: jupyter-dash in c:\\programdata\\anaconda3\\lib\\site-packages (0.4.0)Note: you may need to restart the kernel to use updated packages.\n",
      "Requirement already satisfied: ansi2html in c:\\programdata\\anaconda3\\lib\\site-packages (from jupyter-dash) (1.6.0)\n",
      "Requirement already satisfied: retrying in c:\\programdata\\anaconda3\\lib\\site-packages (from jupyter-dash) (1.3.3)\n",
      "Requirement already satisfied: flask in c:\\programdata\\anaconda3\\lib\\site-packages (from jupyter-dash) (1.1.2)\n",
      "Requirement already satisfied: ipykernel in c:\\programdata\\anaconda3\\lib\\site-packages (from jupyter-dash) (5.3.4)\n",
      "Requirement already satisfied: dash in c:\\programdata\\anaconda3\\lib\\site-packages (from jupyter-dash) (2.1.0)\n",
      "Requirement already satisfied: ipython in c:\\programdata\\anaconda3\\lib\\site-packages (from jupyter-dash) (7.19.0)\n",
      "Requirement already satisfied: requests in c:\\programdata\\anaconda3\\lib\\site-packages (from jupyter-dash) (2.24.0)\n",
      "Requirement already satisfied: six>=1.7.0 in c:\\programdata\\anaconda3\\lib\\site-packages (from retrying->jupyter-dash) (1.15.0)\n",
      "Requirement already satisfied: Jinja2>=2.10.1 in c:\\programdata\\anaconda3\\lib\\site-packages (from flask->jupyter-dash) (2.11.2)\n",
      "Requirement already satisfied: click>=5.1 in c:\\programdata\\anaconda3\\lib\\site-packages (from flask->jupyter-dash) (7.1.2)\n",
      "Requirement already satisfied: Werkzeug>=0.15 in c:\\programdata\\anaconda3\\lib\\site-packages (from flask->jupyter-dash) (1.0.1)\n",
      "Requirement already satisfied: itsdangerous>=0.24 in c:\\programdata\\anaconda3\\lib\\site-packages (from flask->jupyter-dash) (1.1.0)\n",
      "Requirement already satisfied: traitlets>=4.1.0 in c:\\programdata\\anaconda3\\lib\\site-packages (from ipykernel->jupyter-dash) (5.0.5)\n",
      "Requirement already satisfied: jupyter-client in c:\\programdata\\anaconda3\\lib\\site-packages (from ipykernel->jupyter-dash) (6.1.7)\n",
      "Requirement already satisfied: tornado>=4.2 in c:\\programdata\\anaconda3\\lib\\site-packages (from ipykernel->jupyter-dash) (6.0.4)\n",
      "Requirement already satisfied: dash-html-components==2.0.0 in c:\\programdata\\anaconda3\\lib\\site-packages (from dash->jupyter-dash) (2.0.0)\n",
      "Requirement already satisfied: dash-core-components==2.0.0 in c:\\programdata\\anaconda3\\lib\\site-packages (from dash->jupyter-dash) (2.0.0)\n",
      "Requirement already satisfied: dash-table==5.0.0 in c:\\programdata\\anaconda3\\lib\\site-packages (from dash->jupyter-dash) (5.0.0)\n",
      "\n",
      "Requirement already satisfied: flask-compress in c:\\programdata\\anaconda3\\lib\\site-packages (from dash->jupyter-dash) (1.10.1)\n",
      "Requirement already satisfied: plotly>=5.0.0 in c:\\programdata\\anaconda3\\lib\\site-packages (from dash->jupyter-dash) (5.3.1)\n",
      "Requirement already satisfied: setuptools>=18.5 in c:\\programdata\\anaconda3\\lib\\site-packages (from ipython->jupyter-dash) (50.3.1.post20201107)\n",
      "Requirement already satisfied: decorator in c:\\programdata\\anaconda3\\lib\\site-packages (from ipython->jupyter-dash) (4.4.2)\n",
      "Requirement already satisfied: prompt-toolkit!=3.0.0,!=3.0.1,<3.1.0,>=2.0.0 in c:\\programdata\\anaconda3\\lib\\site-packages (from ipython->jupyter-dash) (3.0.8)\n",
      "Requirement already satisfied: colorama; sys_platform == \"win32\" in c:\\programdata\\anaconda3\\lib\\site-packages (from ipython->jupyter-dash) (0.4.4)\n",
      "Requirement already satisfied: pickleshare in c:\\programdata\\anaconda3\\lib\\site-packages (from ipython->jupyter-dash) (0.7.5)\n",
      "Requirement already satisfied: pygments in c:\\programdata\\anaconda3\\lib\\site-packages (from ipython->jupyter-dash) (2.7.2)\n",
      "Requirement already satisfied: backcall in c:\\programdata\\anaconda3\\lib\\site-packages (from ipython->jupyter-dash) (0.2.0)\n",
      "Requirement already satisfied: jedi>=0.10 in c:\\programdata\\anaconda3\\lib\\site-packages (from ipython->jupyter-dash) (0.17.1)\n",
      "Requirement already satisfied: idna<3,>=2.5 in c:\\programdata\\anaconda3\\lib\\site-packages (from requests->jupyter-dash) (2.10)\n",
      "Requirement already satisfied: certifi>=2017.4.17 in c:\\programdata\\anaconda3\\lib\\site-packages (from requests->jupyter-dash) (2020.6.20)\n",
      "Requirement already satisfied: urllib3!=1.25.0,!=1.25.1,<1.26,>=1.21.1 in c:\\programdata\\anaconda3\\lib\\site-packages (from requests->jupyter-dash) (1.25.11)\n",
      "Requirement already satisfied: chardet<4,>=3.0.2 in c:\\programdata\\anaconda3\\lib\\site-packages (from requests->jupyter-dash) (3.0.4)\n",
      "Requirement already satisfied: MarkupSafe>=0.23 in c:\\programdata\\anaconda3\\lib\\site-packages (from Jinja2>=2.10.1->flask->jupyter-dash) (1.1.1)\n",
      "Requirement already satisfied: ipython-genutils in c:\\programdata\\anaconda3\\lib\\site-packages (from traitlets>=4.1.0->ipykernel->jupyter-dash) (0.2.0)\n",
      "Requirement already satisfied: pyzmq>=13 in c:\\programdata\\anaconda3\\lib\\site-packages (from jupyter-client->ipykernel->jupyter-dash) (19.0.2)\n",
      "Requirement already satisfied: jupyter-core>=4.6.0 in c:\\programdata\\anaconda3\\lib\\site-packages (from jupyter-client->ipykernel->jupyter-dash) (4.6.3)\n",
      "Requirement already satisfied: python-dateutil>=2.1 in c:\\programdata\\anaconda3\\lib\\site-packages (from jupyter-client->ipykernel->jupyter-dash) (2.8.1)\n",
      "Requirement already satisfied: brotli in c:\\programdata\\anaconda3\\lib\\site-packages (from flask-compress->dash->jupyter-dash) (1.0.9)\n",
      "Requirement already satisfied: tenacity>=6.2.0 in c:\\programdata\\anaconda3\\lib\\site-packages (from plotly>=5.0.0->dash->jupyter-dash) (8.0.1)\n",
      "Requirement already satisfied: wcwidth in c:\\programdata\\anaconda3\\lib\\site-packages (from prompt-toolkit!=3.0.0,!=3.0.1,<3.1.0,>=2.0.0->ipython->jupyter-dash) (0.2.5)\n",
      "Requirement already satisfied: parso<0.8.0,>=0.7.0 in c:\\programdata\\anaconda3\\lib\\site-packages (from jedi>=0.10->ipython->jupyter-dash) (0.7.0)\n",
      "Requirement already satisfied: pywin32>=1.0; sys_platform == \"win32\" in c:\\programdata\\anaconda3\\lib\\site-packages (from jupyter-core>=4.6.0->jupyter-client->ipykernel->jupyter-dash) (227)\n"
     ]
    }
   ],
   "source": [
    "pip install jupyter-dash"
   ]
  },
  {
   "cell_type": "code",
   "execution_count": 86,
   "metadata": {},
   "outputs": [
    {
     "name": "stdout",
     "output_type": "stream",
     "text": [
      "Dash is running on http://127.0.0.1:8050/\n",
      "\n",
      " * Serving Flask app \"__main__\" (lazy loading)\n",
      " * Environment: production\n",
      "   WARNING: This is a development server. Do not use it in a production deployment.\n",
      "   Use a production WSGI server instead.\n",
      " * Debug mode: on\n"
     ]
    }
   ],
   "source": [
    "external_stylesheets = ['https://codepen.io/chriddyp/pen/bWLwgP.css']\n",
    "\n",
    "fig = px.bar(data_frame=coeff_df, log_y=True)\n",
    "\n",
    "app = dash.Dash(__name__, external_stylesheets=external_stylesheets)\n",
    "\n",
    "app.layout = html.Div([\n",
    "    html.H1('Dashboard in project'),\n",
    "    html.Div('a) Bar chart for parameters from the linear model', style = {'color':'black', 'font-size':'1.5em'}),\n",
    "    html.Div([\n",
    "    dcc.Graph(figure=fig)]),\n",
    "    html.Div([\n",
    "    html.Div('b) Histogram for the selected column', style = {'color':'black', 'font-size':'1.5em'}),\n",
    "    dcc.Dropdown(\n",
    "        id=\"dropdown\",\n",
    "        options=list(df.columns),\n",
    "        value=None,\n",
    "        clearable=False,\n",
    "    ),\n",
    "    dcc.Graph(id=\"graph\")]),\n",
    "    html.Div([\n",
    "    html.Div('c) Scatterplot for all pairs of columns', style = {'color':'black', 'font-size':'1.5em'}),\n",
    "        html.Div([\n",
    "            dcc.Dropdown(\n",
    "                id=\"dropdown1\",\n",
    "                options=list(df.columns),\n",
    "                value=None,\n",
    "                clearable=False,\n",
    "            )], style={'width': '49%', 'display': 'inline-block'}),\n",
    "            html.Div([\n",
    "                dcc.Dropdown(\n",
    "                id=\"dropdown2\",\n",
    "                options=list(df.columns),\n",
    "                value=None,\n",
    "                clearable=False,\n",
    "            )], style={'width': '49%', 'display': 'inline-block'})]),\n",
    "    dcc.Graph(id=\"scatter-plot\")\n",
    "    ], style = { 'width': '80%', 'margin': '0 auto'})\n",
    "\n",
    "#dynamic elements\n",
    "@app.callback(\n",
    "    Output(\"graph\", \"figure\"), \n",
    "    [Input(\"dropdown\", \"value\")])\n",
    "def display_color(col):\n",
    "    data = df2[col]\n",
    "    fig = px.histogram(data, nbins=30)\n",
    "    return fig\n",
    "@app.callback(\n",
    "    Output(\"scatter-plot\", \"figure\"), \n",
    "    [Input('dropdown1', 'value'),\n",
    "     Input('dropdown2', 'value')])\n",
    "def update_bar_chart(col1, col2):\n",
    "    data = df2\n",
    "    fig = px.scatter(x=data[col1], y=data[col2])\n",
    "    fig.update_xaxes(title=col1, type='linear')\n",
    "    fig.update_yaxes(title=col2, type='linear')\n",
    "    return fig\n",
    "app.run_server(debug=True,use_reloader=False)"
   ]
  },
  {
   "cell_type": "code",
   "execution_count": null,
   "metadata": {},
   "outputs": [],
   "source": []
  }
 ],
 "metadata": {
  "kernelspec": {
   "display_name": "Python 3",
   "language": "python",
   "name": "python3"
  },
  "language_info": {
   "codemirror_mode": {
    "name": "ipython",
    "version": 3
   },
   "file_extension": ".py",
   "mimetype": "text/x-python",
   "name": "python",
   "nbconvert_exporter": "python",
   "pygments_lexer": "ipython3",
   "version": "3.8.5"
  }
 },
 "nbformat": 4,
 "nbformat_minor": 4
}
